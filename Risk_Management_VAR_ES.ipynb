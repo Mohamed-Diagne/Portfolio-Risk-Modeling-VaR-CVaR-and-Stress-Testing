{
  "nbformat": 4,
  "nbformat_minor": 0,
  "metadata": {
    "colab": {
      "provenance": [],
      "include_colab_link": true
    },
    "kernelspec": {
      "name": "python3",
      "display_name": "Python 3"
    },
    "language_info": {
      "name": "python"
    }
  },
  "cells": [
    {
      "cell_type": "markdown",
      "metadata": {
        "id": "view-in-github",
        "colab_type": "text"
      },
      "source": [
        "<a href=\"https://colab.research.google.com/github/Mohamed-Diagne/VAR-SVAR-on-Optimized-Portfolio/blob/main/Risk_Management_VAR_ES.ipynb\" target=\"_parent\"><img src=\"https://colab.research.google.com/assets/colab-badge.svg\" alt=\"Open In Colab\"/></a>"
      ]
    },
    {
      "cell_type": "markdown",
      "source": [
        "## **Quantifying Risk: VaR & ES Methods**\n",
        "-------\n"
      ],
      "metadata": {
        "id": "8sqH6hXTtAC3"
      }
    },
    {
      "cell_type": "markdown",
      "source": [
        "Following the 2008 financial crisis, regulatory frameworks like **Basel III** reinforced the use of the **99% Value at Risk (VaR)** as a standard risk measure, while introducing complementary tools such as *stressed VaR* and mandatory stress testing. However, due to VaR’s inability to capture extreme tail risks, **Basel IV** reforms have moved toward replacing it with the **97.5% Conditional Value at Risk (CVaR)**, offering a more robust and conservative assessment of market risk. This regulatory shift reflects a broader effort to strengthen financial resilience and avoid underestimating systemic vulnerabilities.\n",
        "\n",
        "To explore the practical implications of these risk measures, a portfolio consisting of two market assets valued at **10,000€** is constructed, with daily risk assessed over one year under different **VaR** and **ES** methodologies.\n",
        "\n",
        "\n"
      ],
      "metadata": {
        "id": "IHH3HYjrtQVC"
      }
    },
    {
      "cell_type": "markdown",
      "source": [
        "# Investment portfolio"
      ],
      "metadata": {
        "id": "dt9pbYe96Hft"
      }
    },
    {
      "cell_type": "markdown",
      "source": [
        "**Choice of Stocks**"
      ],
      "metadata": {
        "id": "cgDw2XsVZ0sE"
      }
    },
    {
      "cell_type": "markdown",
      "source": [
        "Microsoft is a highly profitable tech company, offering strong growth exposure. Canadian National Railway (CNR) operates in the stable transport sector, less affected by economic cycles. These two stocks have low correlation due to their different industries. Combining them helps reduce overall portfolio risk, making them ideal for a Value at Risk (VaR) analysis."
      ],
      "metadata": {
        "id": "5yA2w116Y92y"
      }
    },
    {
      "cell_type": "code",
      "source": [
        "import yfinance as yf\n",
        "\n",
        "# Download data for Microsoft Corporation (MSFT)\n",
        "MSF = yf.download(\" MSFT\", start=\"2023-01-01\", end=\"2024-01-01\")\n",
        "\n",
        "# Download data for Canadian National Railway Company (CNR)\n",
        "CNR = yf.download(\"CNR\", start=\"2023-01-01\", end=\"2024-01-01\")"
      ],
      "metadata": {
        "colab": {
          "base_uri": "https://localhost:8080/"
        },
        "id": "jEOGLp0IyTKd",
        "outputId": "866b5937-008a-4635-df25-ef2faa34a18b"
      },
      "execution_count": null,
      "outputs": [
        {
          "output_type": "stream",
          "name": "stdout",
          "text": [
            "YF.download() has changed argument auto_adjust default to True\n"
          ]
        },
        {
          "output_type": "stream",
          "name": "stderr",
          "text": [
            "[*********************100%***********************]  1 of 1 completed\n",
            "[*********************100%***********************]  1 of 1 completed\n"
          ]
        }
      ]
    },
    {
      "cell_type": "markdown",
      "source": [
        "**Calcul of Log-Returns**"
      ],
      "metadata": {
        "id": "4TY3WNzXZ3X1"
      }
    },
    {
      "cell_type": "markdown",
      "source": [
        "\\begin{equation}\n",
        "    r_t = \\ln \\left( \\frac{P_t}{P_{t-1}} \\right) = \\ln P_t - \\ln P_{t-1}.\n",
        "\\end{equation}\n",
        "where $P_t$ is the closing price at time $t$.\n",
        "\n",
        "The logarithmic return is preferred because it is additive over multiple periods, simplifying aggregation and risk analysis (Alexander, 2008). Moreover, when working with daily data, it can be viewed as a discrete approximation of continuous time, enhancing volatility estimation, and mitigating the biases associated with arithmetic returns."
      ],
      "metadata": {
        "id": "bQMDCktBuHG5"
      }
    },
    {
      "cell_type": "code",
      "source": [
        "import numpy as np\n",
        "\n",
        "# Calculate logarithmic returns for Microsoft Corporation (MSF.F)\n",
        "MSF['Log_Return'] = np.log(MSF['Close'] / MSF['Close'].shift(1))\n",
        "\n",
        "# Calculate logarithmic returns for Canadian National Railway Company (CNR.TO)\n",
        "CNR['Log_Return'] = np.log(CNR['Close'] / CNR['Close'].shift(1))"
      ],
      "metadata": {
        "id": "coehT90Rybtt"
      },
      "execution_count": null,
      "outputs": []
    },
    {
      "cell_type": "code",
      "source": [
        "import yfinance as yf\n",
        "import numpy as np\n",
        "import matplotlib.pyplot as plt\n",
        "\n",
        "# Align the dates for both dataframes\n",
        "msf_cnr = MSF.merge(CNR, left_index=True, right_index=True, suffixes=('_msf', '_cnr'))\n",
        "\n",
        "# Calculate the correlation between the log returns\n",
        "correlation = msf_cnr['Log_Return_msf'].corr(msf_cnr['Log_Return_cnr'])\n",
        "\n",
        "print(f\"Correlation between Log Returns of Microsoft (MSF.F) and Canadian National Railway (CNR.TO): {correlation}\")\n",
        "\n",
        "# Plot the correlation\n",
        "plt.figure(figsize=(10, 6))\n",
        "plt.scatter(msf_cnr['Log_Return_msf'], msf_cnr['Log_Return_cnr'])\n",
        "plt.xlabel(\"MSF  Log Return\")\n",
        "plt.ylabel(\"CNR Log Return\")\n",
        "plt.title(f\"Correlation between MSF and CNR Log Returns: {correlation:.2f}\")\n",
        "plt.grid(True)\n",
        "plt.show()"
      ],
      "metadata": {
        "colab": {
          "base_uri": "https://localhost:8080/",
          "height": 581
        },
        "id": "wHRgQzn2yjJE",
        "outputId": "abcd8507-bacc-43f8-82fd-a5791476c07f"
      },
      "execution_count": null,
      "outputs": [
        {
          "output_type": "stream",
          "name": "stdout",
          "text": [
            "Correlation between Log Returns of Microsoft (MSF.F) and Canadian National Railway (CNR.TO): 0.08708817016309044\n"
          ]
        },
        {
          "output_type": "display_data",
          "data": {
            "text/plain": [
              "<Figure size 1000x600 with 1 Axes>"
            ],
            "image/png": "[encoded data removed]"
          },
          "metadata": {}
        }
      ]
    },
    {
      "cell_type": "markdown",
      "source": [
        "The correlation between the two assets is 0.09, indicating a very low linear relationship between their returns, which is beneficial for portfolio diversification."
      ],
      "metadata": {
        "id": "p6NDk4_ZZvK4"
      }
    },
    {
      "cell_type": "code",
      "source": [
        "# Calculate the cumulative log returns\n",
        "msf_cnr['Cumulative_Log_Return_msf'] = msf_cnr['Log_Return_msf'].cumsum()\n",
        "msf_cnr['Cumulative_Log_Return_cnr'] = msf_cnr['Log_Return_cnr'].cumsum()\n",
        "\n",
        "# Plot the cumulative log returns\n",
        "plt.figure(figsize=(10, 6))\n",
        "plt.plot(msf_cnr['Cumulative_Log_Return_msf'], label='MSF Cumulative Log Return')\n",
        "plt.plot(msf_cnr['Cumulative_Log_Return_cnr'], label='CNR Cumulative Log Return')\n",
        "plt.xlabel(\"Date\")\n",
        "plt.ylabel(\"Cumulative Log Return\")\n",
        "plt.title(\"Cumulative Log Returns of MSF and CNR\")\n",
        "plt.legend()\n",
        "plt.grid(True)\n",
        "plt.show()"
      ],
      "metadata": {
        "colab": {
          "base_uri": "https://localhost:8080/",
          "height": 564
        },
        "id": "L8BEvf7hzWai",
        "outputId": "24374a40-6831-44fd-b420-9d9850f9d662"
      },
      "execution_count": null,
      "outputs": [
        {
          "output_type": "display_data",
          "data": {
            "text/plain": [
              "<Figure size 1000x600 with 1 Axes>"
            ],
            "image/png": "[encoded data removed]"
          },
          "metadata": {}
        }
      ]
    },
    {
      "cell_type": "markdown",
      "source": [
        "**Choice of ponderation**\n",
        "\n",
        "For this portfolio, we chose the **inverse volatility weighting method**. This approach allocates a higher weight to the **less volatile asset**, which helps reduce the overall portfolio risk. Compared to equal weighting, it provides a more risk-adjusted allocation by accounting for the individual risk of each asset.\n",
        "\n",
        "The formula used is:\n",
        "\n",
        "$$\n",
        "w_i = \\frac{\\frac{1}{\\sigma_i}}{\\sum_{j=1}^{n} \\frac{1}{\\sigma_j}}\n",
        "$$\n",
        "\n",
        "Where:\n",
        "\n",
        "- $w_i$ is the weight of asset $i$,  \n",
        "- $\\sigma_i$ is the standard deviation (volatility) of asset $i$,  \n",
        "- $n$ is the total number of assets.\n",
        "\n",
        "This method resulted in a **lower portfolio volatility** and a **more stable performance**, making it more suitable for risk-sensitive strategies in this analysis.\n",
        "\n"
      ],
      "metadata": {
        "id": "wEhAy94hc-h1"
      }
    },
    {
      "cell_type": "code",
      "source": [
        "import pandas as pd\n",
        "\n",
        "# Merge the two log return series into one DataFrame\n",
        "returns_df = pd.DataFrame({\n",
        "    'MSF': MSF['Log_Return'],\n",
        "    'CNR': CNR['Log_Return']\n",
        "}).dropna()\n",
        "\n",
        "# Calculate standard deviations (volatility)\n",
        "vol_msf = returns_df['MSF'].std()\n",
        "vol_cnr = returns_df['CNR'].std()\n",
        "\n",
        "# Inverse volatility weights\n",
        "inv_vol_msf = 1 / vol_msf\n",
        "inv_vol_cnr = 1 / vol_cnr\n",
        "sum_inv_vol = inv_vol_msf + inv_vol_cnr\n",
        "\n",
        "w_msf = inv_vol_msf / sum_inv_vol\n",
        "w_cnr = inv_vol_cnr / sum_inv_vol\n",
        "\n",
        "# Add portfolio returns based on inverse volatility weights\n",
        "returns_df['Portfolio_Return'] = returns_df['MSF'] * w_msf + returns_df['CNR'] * w_cnr\n",
        "\n",
        "# Display weights and preview\n",
        "print(f\"Weight MSF: {w_msf:.2%}, Weight CNR: {w_cnr:.2%}\")\n",
        "returns_df.head()\n"
      ],
      "metadata": {
        "colab": {
          "base_uri": "https://localhost:8080/",
          "height": 254
        },
        "id": "ToYQXXgbd4Wh",
        "outputId": "c3b452bc-8629-41ef-ef42-8e0c0d0166d7"
      },
      "execution_count": null,
      "outputs": [
        {
          "output_type": "stream",
          "name": "stdout",
          "text": [
            "Weight MSF: 64.79%, Weight CNR: 35.21%\n"
          ]
        },
        {
          "output_type": "execute_result",
          "data": {
            "text/plain": [
              "                 MSF       CNR  Portfolio_Return\n",
              "Date                                            \n",
              "2023-01-04 -0.044729 -0.004814         -0.030675\n",
              "2023-01-05 -0.030086 -0.008653         -0.022539\n",
              "2023-01-06  0.011716  0.040370          0.021805\n",
              "2023-01-09  0.009689 -0.024505         -0.002351\n",
              "2023-01-10  0.007588 -0.025120         -0.003928"
            ],
            "text/html": [
              "\n",
              "  <div id=\"df-987020ac-16a3-4090-bd24-cf79345bbcc5\" class=\"colab-df-container\">\n",
              "    <div>\n",
              "<style scoped>\n",
              "    .dataframe tbody tr th:only-of-type {\n",
              "        vertical-align: middle;\n",
              "    }\n",
              "\n",
              "    .dataframe tbody tr th {\n",
              "        vertical-align: top;\n",
              "    }\n",
              "\n",
              "    .dataframe thead th {\n",
              "        text-align: right;\n",
              "    }\n",
              "</style>\n",
              "<table border=\"1\" class=\"dataframe\">\n",
              "  <thead>\n",
              "    <tr style=\"text-align: right;\">\n",
              "      <th></th>\n",
              "      <th>MSF</th>\n",
              "      <th>CNR</th>\n",
              "      <th>Portfolio_Return</th>\n",
              "    </tr>\n",
              "    <tr>\n",
              "      <th>Date</th>\n",
              "      <th></th>\n",
              "      <th></th>\n",
              "      <th></th>\n",
              "    </tr>\n",
              "  </thead>\n",
              "  <tbody>\n",
              "    <tr>\n",
              "      <th>2023-01-04</th>\n",
              "      <td>-0.044729</td>\n",
              "      <td>-0.004814</td>\n",
              "      <td>-0.030675</td>\n",
              "    </tr>\n",
              "    <tr>\n",
              "      <th>2023-01-05</th>\n",
              "      <td>-0.030086</td>\n",
              "      <td>-0.008653</td>\n",
              "      <td>-0.022539</td>\n",
              "    </tr>\n",
              "    <tr>\n",
              "      <th>2023-01-06</th>\n",
              "      <td>0.011716</td>\n",
              "      <td>0.040370</td>\n",
              "      <td>0.021805</td>\n",
              "    </tr>\n",
              "    <tr>\n",
              "      <th>2023-01-09</th>\n",
              "      <td>0.009689</td>\n",
              "      <td>-0.024505</td>\n",
              "      <td>-0.002351</td>\n",
              "    </tr>\n",
              "    <tr>\n",
              "      <th>2023-01-10</th>\n",
              "      <td>0.007588</td>\n",
              "      <td>-0.025120</td>\n",
              "      <td>-0.003928</td>\n",
              "    </tr>\n",
              "  </tbody>\n",
              "</table>\n",
              "</div>\n",
              "    <div class=\"colab-df-buttons\">\n",
              "\n",
              "  <div class=\"colab-df-container\">\n",
              "    <button class=\"colab-df-convert\" onclick=\"convertToInteractive('df-987020ac-16a3-4090-bd24-cf79345bbcc5')\"\n",
              "            title=\"Convert this dataframe to an interactive table.\"\n",
              "            style=\"display:none;\">\n",
              "\n",
              "  <svg xmlns=\"http://www.w3.org/2000/svg\" height=\"24px\" viewBox=\"0 -960 960 960\">\n",
              "    <path d=\"M120-120v-720h720v720H120Zm60-500h600v-160H180v160Zm220 220h160v-160H400v160Zm0 220h160v-160H400v160ZM180-400h160v-160H180v160Zm440 0h160v-160H620v160ZM180-180h160v-160H180v160Zm440 0h160v-160H620v160Z\"/>\n",
              "  </svg>\n",
              "    </button>\n",
              "\n",
              "  <style>\n",
              "    .colab-df-container {\n",
              "      display:flex;\n",
              "      gap: 12px;\n",
              "    }\n",
              "\n",
              "    .colab-df-convert {\n",
              "      background-color: #E8F0FE;\n",
              "      border: none;\n",
              "      border-radius: 50%;\n",
              "      cursor: pointer;\n",
              "      display: none;\n",
              "      fill: #1967D2;\n",
              "      height: 32px;\n",
              "      padding: 0 0 0 0;\n",
              "      width: 32px;\n",
              "    }\n",
              "\n",
              "    .colab-df-convert:hover {\n",
              "      background-color: #E2EBFA;\n",
              "      box-shadow: 0px 1px 2px rgba(60, 64, 67, 0.3), 0px 1px 3px 1px rgba(60, 64, 67, 0.15);\n",
              "      fill: #174EA6;\n",
              "    }\n",
              "\n",
              "    .colab-df-buttons div {\n",
              "      margin-bottom: 4px;\n",
              "    }\n",
              "\n",
              "    [theme=dark] .colab-df-convert {\n",
              "      background-color: #3B4455;\n",
              "      fill: #D2E3FC;\n",
              "    }\n",
              "\n",
              "    [theme=dark] .colab-df-convert:hover {\n",
              "      background-color: #434B5C;\n",
              "      box-shadow: 0px 1px 3px 1px rgba(0, 0, 0, 0.15);\n",
              "      filter: drop-shadow(0px 1px 2px rgba(0, 0, 0, 0.3));\n",
              "      fill: #FFFFFF;\n",
              "    }\n",
              "  </style>\n",
              "\n",
              "    <script>\n",
              "      const buttonEl =\n",
              "        document.querySelector('#df-987020ac-16a3-4090-bd24-cf79345bbcc5 button.colab-df-convert');\n",
              "      buttonEl.style.display =\n",
              "        google.colab.kernel.accessAllowed ? 'block' : 'none';\n",
              "\n",
              "      async function convertToInteractive(key) {\n",
              "        const element = document.querySelector('#df-987020ac-16a3-4090-bd24-cf79345bbcc5');\n",
              "        const dataTable =\n",
              "          await google.colab.kernel.invokeFunction('convertToInteractive',\n",
              "                                                    [key], {});\n",
              "        if (!dataTable) return;\n",
              "\n",
              "        const docLinkHtml = 'Like what you see? Visit the ' +\n",
              "          '<a target=\"_blank\" href=https://colab.research.google.com/notebooks/data_table.ipynb>data table notebook</a>'\n",
              "          + ' to learn more about interactive tables.';\n",
              "        element.innerHTML = '';\n",
              "        dataTable['output_type'] = 'display_data';\n",
              "        await google.colab.output.renderOutput(dataTable, element);\n",
              "        const docLink = document.createElement('div');\n",
              "        docLink.innerHTML = docLinkHtml;\n",
              "        element.appendChild(docLink);\n",
              "      }\n",
              "    </script>\n",
              "  </div>\n",
              "\n",
              "\n",
              "<div id=\"df-b12c7821-bac1-4514-a634-8519c2293c51\">\n",
              "  <button class=\"colab-df-quickchart\" onclick=\"quickchart('df-b12c7821-bac1-4514-a634-8519c2293c51')\"\n",
              "            title=\"Suggest charts\"\n",
              "            style=\"display:none;\">\n",
              "\n",
              "<svg xmlns=\"http://www.w3.org/2000/svg\" height=\"24px\"viewBox=\"0 0 24 24\"\n",
              "     width=\"24px\">\n",
              "    <g>\n",
              "        <path d=\"M19 3H5c-1.1 0-2 .9-2 2v14c0 1.1.9 2 2 2h14c1.1 0 2-.9 2-2V5c0-1.1-.9-2-2-2zM9 17H7v-7h2v7zm4 0h-2V7h2v10zm4 0h-2v-4h2v4z\"/>\n",
              "    </g>\n",
              "</svg>\n",
              "  </button>\n",
              "\n",
              "<style>\n",
              "  .colab-df-quickchart {\n",
              "      --bg-color: #E8F0FE;\n",
              "      --fill-color: #1967D2;\n",
              "      --hover-bg-color: #E2EBFA;\n",
              "      --hover-fill-color: #174EA6;\n",
              "      --disabled-fill-color: #AAA;\n",
              "      --disabled-bg-color: #DDD;\n",
              "  }\n",
              "\n",
              "  [theme=dark] .colab-df-quickchart {\n",
              "      --bg-color: #3B4455;\n",
              "      --fill-color: #D2E3FC;\n",
              "      --hover-bg-color: #434B5C;\n",
              "      --hover-fill-color: #FFFFFF;\n",
              "      --disabled-bg-color: #3B4455;\n",
              "      --disabled-fill-color: #666;\n",
              "  }\n",
              "\n",
              "  .colab-df-quickchart {\n",
              "    background-color: var(--bg-color);\n",
              "    border: none;\n",
              "    border-radius: 50%;\n",
              "    cursor: pointer;\n",
              "    display: none;\n",
              "    fill: var(--fill-color);\n",
              "    height: 32px;\n",
              "    padding: 0;\n",
              "    width: 32px;\n",
              "  }\n",
              "\n",
              "  .colab-df-quickchart:hover {\n",
              "    background-color: var(--hover-bg-color);\n",
              "    box-shadow: 0 1px 2px rgba(60, 64, 67, 0.3), 0 1px 3px 1px rgba(60, 64, 67, 0.15);\n",
              "    fill: var(--button-hover-fill-color);\n",
              "  }\n",
              "\n",
              "  .colab-df-quickchart-complete:disabled,\n",
              "  .colab-df-quickchart-complete:disabled:hover {\n",
              "    background-color: var(--disabled-bg-color);\n",
              "    fill: var(--disabled-fill-color);\n",
              "    box-shadow: none;\n",
              "  }\n",
              "\n",
              "  .colab-df-spinner {\n",
              "    border: 2px solid var(--fill-color);\n",
              "    border-color: transparent;\n",
              "    border-bottom-color: var(--fill-color);\n",
              "    animation:\n",
              "      spin 1s steps(1) infinite;\n",
              "  }\n",
              "\n",
              "  @keyframes spin {\n",
              "    0% {\n",
              "      border-color: transparent;\n",
              "      border-bottom-color: var(--fill-color);\n",
              "      border-left-color: var(--fill-color);\n",
              "    }\n",
              "    20% {\n",
              "      border-color: transparent;\n",
              "      border-left-color: var(--fill-color);\n",
              "      border-top-color: var(--fill-color);\n",
              "    }\n",
              "    30% {\n",
              "      border-color: transparent;\n",
              "      border-left-color: var(--fill-color);\n",
              "      border-top-color: var(--fill-color);\n",
              "      border-right-color: var(--fill-color);\n",
              "    }\n",
              "    40% {\n",
              "      border-color: transparent;\n",
              "      border-right-color: var(--fill-color);\n",
              "      border-top-color: var(--fill-color);\n",
              "    }\n",
              "    60% {\n",
              "      border-color: transparent;\n",
              "      border-right-color: var(--fill-color);\n",
              "    }\n",
              "    80% {\n",
              "      border-color: transparent;\n",
              "      border-right-color: var(--fill-color);\n",
              "      border-bottom-color: var(--fill-color);\n",
              "    }\n",
              "    90% {\n",
              "      border-color: transparent;\n",
              "      border-bottom-color: var(--fill-color);\n",
              "    }\n",
              "  }\n",
              "</style>\n",
              "\n",
              "  <script>\n",
              "    async function quickchart(key) {\n",
              "      const quickchartButtonEl =\n",
              "        document.querySelector('#' + key + ' button');\n",
              "      quickchartButtonEl.disabled = true;  // To prevent multiple clicks.\n",
              "      quickchartButtonEl.classList.add('colab-df-spinner');\n",
              "      try {\n",
              "        const charts = await google.colab.kernel.invokeFunction(\n",
              "            'suggestCharts', [key], {});\n",
              "      } catch (error) {\n",
              "        console.error('Error during call to suggestCharts:', error);\n",
              "      }\n",
              "      quickchartButtonEl.classList.remove('colab-df-spinner');\n",
              "      quickchartButtonEl.classList.add('colab-df-quickchart-complete');\n",
              "    }\n",
              "    (() => {\n",
              "      let quickchartButtonEl =\n",
              "        document.querySelector('#df-b12c7821-bac1-4514-a634-8519c2293c51 button');\n",
              "      quickchartButtonEl.style.display =\n",
              "        google.colab.kernel.accessAllowed ? 'block' : 'none';\n",
              "    })();\n",
              "  </script>\n",
              "</div>\n",
              "\n",
              "    </div>\n",
              "  </div>\n"
            ],
            "application/vnd.google.colaboratory.intrinsic+json": {
              "type": "dataframe",
              "variable_name": "returns_df",
              "summary": "{\n  \"name\": \"returns_df\",\n  \"rows\": 249,\n  \"fields\": [\n    {\n      \"column\": \"Date\",\n      \"properties\": {\n        \"dtype\": \"date\",\n        \"min\": \"2023-01-04 00:00:00\",\n        \"max\": \"2023-12-29 00:00:00\",\n        \"num_unique_values\": 249,\n        \"samples\": [\n          \"2023-07-24 00:00:00\",\n          \"2023-01-12 00:00:00\",\n          \"2023-05-24 00:00:00\"\n        ],\n        \"semantic_type\": \"\",\n        \"description\": \"\"\n      }\n    },\n    {\n      \"column\": \"MSF\",\n      \"properties\": {\n        \"dtype\": \"number\",\n        \"std\": 0.015754026769679498,\n        \"min\": -0.044728891439229,\n        \"max\": 0.06993125445773157,\n        \"num_unique_values\": 249,\n        \"samples\": [\n          0.0038902714576343075,\n          0.011554368970635746,\n          -0.0044826317315347025\n        ],\n        \"semantic_type\": \"\",\n        \"description\": \"\"\n      }\n    },\n    {\n      \"column\": \"CNR\",\n      \"properties\": {\n        \"dtype\": \"number\",\n        \"std\": 0.028988999544419376,\n        \"min\": -0.11942574692105831,\n        \"max\": 0.0907920299457963,\n        \"num_unique_values\": 249,\n        \"samples\": [\n          0.03698530134134514,\n          0.007669454895084901,\n          -0.0008536912112818404\n        ],\n        \"semantic_type\": \"\",\n        \"description\": \"\"\n      }\n    },\n    {\n      \"column\": \"Portfolio_Return\",\n      \"properties\": {\n        \"dtype\": \"number\",\n        \"std\": 0.015050358113321085,\n        \"min\": -0.04406297269797079,\n        \"max\": 0.05231098499786557,\n        \"num_unique_values\": 249,\n        \"samples\": [\n          0.015543036808623373,\n          0.010186490099088626,\n          -0.003204881190024653\n        ],\n        \"semantic_type\": \"\",\n        \"description\": \"\"\n      }\n    }\n  ]\n}"
            }
          },
          "metadata": {},
          "execution_count": 5
        }
      ]
    },
    {
      "cell_type": "markdown",
      "source": [
        "The inverse volatility weighting approach resulted in a portfolio allocation of 64.79% to MSF and 35.21% to CNR, favoring the less volatile asset (MSF) to minimize overall portfolio risk."
      ],
      "metadata": {
        "id": "eq-lWBDUgAEG"
      }
    },
    {
      "cell_type": "markdown",
      "source": [
        "**Descriptive Statistics**"
      ],
      "metadata": {
        "id": "hmUKJFpufXXo"
      }
    },
    {
      "cell_type": "code",
      "source": [
        "# Number of trading days in a year\n",
        "trading_days = 252\n",
        "\n",
        "# Calculate mean daily return and daily volatility of the portfolio\n",
        "mean_daily_return = returns_df['Portfolio_Return'].mean()\n",
        "vol_daily = returns_df['Portfolio_Return'].std()\n",
        "\n",
        "# Annualize the return and volatility\n",
        "annual_return = mean_daily_return * trading_days\n",
        "annual_volatility = vol_daily * np.sqrt(trading_days)\n",
        "\n",
        "# Display results\n",
        "print(f\"Mean Daily Return: {mean_daily_return:.2%}\")\n",
        "print(f\"Annualized Return: {annual_return:.2%}\")\n",
        "print(f\"Daily Volatility: {vol_daily:.2%}\")\n",
        "print(f\"Annualized Volatility: {annual_volatility:.2%}\")"
      ],
      "metadata": {
        "colab": {
          "base_uri": "https://localhost:8080/"
        },
        "id": "4FPxrj2vfZdv",
        "outputId": "aa6ce9ac-1c77-4679-cd07-18f4df934266"
      },
      "execution_count": null,
      "outputs": [
        {
          "output_type": "stream",
          "name": "stdout",
          "text": [
            "Mean Daily Return: 0.20%\n",
            "Annualized Return: 50.90%\n",
            "Daily Volatility: 1.51%\n",
            "Annualized Volatility: 23.89%\n"
          ]
        }
      ]
    },
    {
      "cell_type": "markdown",
      "source": [
        "The portfolio shows a strong performance with an annualized return of 50.90%, significantly outpacing its annualized volatility of 23.89%, indicating an attractive risk-return profile.\n",
        "\n",
        "\n",
        "\n",
        "\n",
        "\n",
        "\n",
        "\n"
      ],
      "metadata": {
        "id": "SZ5ES3EFfhFH"
      }
    },
    {
      "cell_type": "markdown",
      "source": [
        "**Cumulative portfolio return**"
      ],
      "metadata": {
        "id": "Pef2hE_Q1VNE"
      }
    },
    {
      "cell_type": "code",
      "source": [
        "# Calculate portfolio value (assuming an initial investment of 10,000€)\n",
        "initial_investment = 10000\n",
        "# Calculate the cumulative portfolio return\n",
        "returns_df['Cumulative_Portfolio_Return'] = (1 + returns_df['Portfolio_Return']).cumprod() - 1\n",
        "returns_df['Portfolio_Value'] = initial_investment * (1 + returns_df['Cumulative_Portfolio_Return'])\n",
        "\n",
        "# Create a plot with two axes\n",
        "fig, ax1 = plt.subplots(figsize=(12, 6))\n",
        "\n",
        "# First axis (left): cumulative return\n",
        "color = 'tab:blue'\n",
        "ax1.set_xlabel('Date')\n",
        "ax1.set_ylabel('Cumulative Return', color=color)\n",
        "ax1.plot(returns_df.index, returns_df['Cumulative_Portfolio_Return'], color=color, label='Cumulative Return')\n",
        "ax1.tick_params(axis='y', labelcolor=color)\n",
        "ax1.grid(True)\n",
        "\n",
        "# Second axis (right): portfolio value in euros\n",
        "ax2 = ax1.twinx()\n",
        "color = 'tab:green'\n",
        "ax2.set_ylabel('Portfolio Value (€)', color=color)\n",
        "ax2.plot(returns_df.index, returns_df['Portfolio_Value'], color=color, linestyle='--', label='Portfolio Value (€)')\n",
        "ax2.tick_params(axis='y', labelcolor=color)\n",
        "\n",
        "# Add a combined legend\n",
        "lines1, labels1 = ax1.get_legend_handles_labels()\n",
        "lines2, labels2 = ax2.get_legend_handles_labels()\n",
        "ax1.legend(lines1 + lines2, labels1 + labels2, loc='upper left')\n",
        "\n",
        "# Title and layout\n",
        "plt.title('Cumulative Return and Portfolio Value (€10,000 Initial Investment)')\n",
        "fig.tight_layout()\n",
        "plt.show()"
      ],
      "metadata": {
        "colab": {
          "base_uri": "https://localhost:8080/",
          "height": 513
        },
        "id": "4gO6eMIx0IxJ",
        "outputId": "ec609ab7-f712-497f-f8d2-565d2f40f898"
      },
      "execution_count": null,
      "outputs": [
        {
          "output_type": "display_data",
          "data": {
            "text/plain": [
              "<Figure size 1200x600 with 2 Axes>"
            ],
            "image/png": "[encoded data removed]"
          },
          "metadata": {}
        }
      ]
    },
    {
      "cell_type": "markdown",
      "source": [
        "The chart shows a steadily increasing cumulative return and portfolio value, highlighting the strong performance and consistent growth of the inverse volatility weighted portfolio over the year.\n"
      ],
      "metadata": {
        "id": "VkSNDqZWfIuj"
      }
    },
    {
      "cell_type": "markdown",
      "source": [
        "<br>"
      ],
      "metadata": {
        "id": "_fLiKjBO-uDt"
      }
    },
    {
      "cell_type": "markdown",
      "source": [
        "# Value at Risk"
      ],
      "metadata": {
        "id": "hcalyepD6OfH"
      }
    },
    {
      "cell_type": "markdown",
      "source": [
        "**Value at Risk (VaR)** is a measure of **market risk** that estimates the maximum potential loss of a portfolio over a given time period at a certain confidence level, assuming normal market conditions. There are several methodologies to compute VaR, including **parametric**, **non-parametric**, and **hybrid** approaches.\n"
      ],
      "metadata": {
        "id": "VnVvEwVbhHPS"
      }
    },
    {
      "cell_type": "markdown",
      "source": [
        "## SMA (Parametric approach)  "
      ],
      "metadata": {
        "id": "mD6GUyh262Nn"
      }
    },
    {
      "cell_type": "markdown",
      "source": [
        "The **SMA-based parametric VaR method** estimates market risk by assuming normally distributed returns and using a **simple moving average (SMA)** to calculate volatility. It is a fast and widely used approach in risk management.\n",
        "\n",
        "The sample variance formula is:\n",
        "\n",
        "$$\n",
        "\\sigma^2 = \\frac{1}{n - 1} \\sum_{t=1}^{n} (r_t - \\bar{r})^2\n",
        "$$\n",
        "\n",
        "Where:\n",
        "- $\\bar{r}$ is the mean return,\n",
        "- $n$ is the number of return observations.\n",
        "\n",
        "The Value at Risk is then computed as:\n",
        "\n",
        "$$\n",
        "\\text{VaR}_\\alpha = \\mu + z_\\alpha \\cdot \\sigma\n",
        "$$\n",
        "\n",
        "Where:\n",
        "- $\\mu$ is the mean return (often assumed to be 0),\n",
        "- $z_\\alpha$ is the critical value at confidence level $\\alpha$,\n",
        "- $\\sigma$ is the standard deviation of returns (SMA-based).\n",
        "\n"
      ],
      "metadata": {
        "id": "brgPGz1Fo3sl"
      }
    },
    {
      "cell_type": "markdown",
      "source": [
        "**Justification for Setting u=0 in VaR Calculation**"
      ],
      "metadata": {
        "id": "ZiiMdrvLpYZ1"
      }
    },
    {
      "cell_type": "markdown",
      "source": [
        "In the calculation of VaR, we set **mu = 0** because, over short periods such as **daily returns**, the **average trend** of the price is often negligible (close to 0) compared to the **fluctuations**. What matters for VaR is **volatility**, as it captures the **extreme potential losses** due to **price movements**. Moreover, in an **efficient market**, returns tend to **cancel out** over the long term, further justifying the focus on **volatility** rather than the average return.\n",
        "\n"
      ],
      "metadata": {
        "id": "KVJkn3pWknOA"
      }
    },
    {
      "cell_type": "code",
      "source": [
        "import matplotlib.pyplot as plt\n",
        "from scipy.stats import norm\n",
        "import numpy as np\n",
        "\n",
        "import matplotlib.pyplot as plt\n",
        "from scipy.stats import norm\n",
        "import numpy as np\n",
        "\n",
        "def calculate_parametric_var(returns, confidence_level=0.99, portfolio_value=10000, horizon_days=1):\n",
        "    \"\"\"\n",
        "    Calculate parametric VaR and plot it on a histogram of portfolio losses in € (left-skewed).\n",
        "\n",
        "    Parameters:\n",
        "        returns (array-like): Daily returns of the asset or portfolio.\n",
        "        confidence_level (float): Confidence level (e.g., 0.95).\n",
        "        portfolio_value (float): Value of the portfolio in euros.\n",
        "        horizon_days (int): Time horizon in days.\n",
        "\n",
        "    Returns:\n",
        "        None\n",
        "    \"\"\"\n",
        "    # Z-score\n",
        "    z_score = norm.ppf(confidence_level)\n",
        "\n",
        "    # Volatility\n",
        "    sigma_daily = np.std(returns, ddof=1)\n",
        "    sigma_horizon = sigma_daily * np.sqrt(horizon_days)\n",
        "\n",
        "    # VaR calculation\n",
        "    # Note: We're using the simplified VaR formula that assumes μ = 0 (zero mean)\n",
        "    # This is standard practice for short-term VaR (1-day) in banking for three reasons:\n",
        "    # 1. For short horizons, volatility dominates the mean effect\n",
        "    # 2. It provides a more conservative risk estimate\n",
        "    # 3. Mean estimation is statistically less stable than volatility estimation\n",
        "    #\n",
        "    # The full formula would be: var_percent = -mean_return + z_score * sigma_horizon\n",
        "    var_percent = z_score * sigma_horizon\n",
        "    var_value = var_percent * portfolio_value\n",
        "\n",
        "    # Losses in €\n",
        "    losses = returns * -portfolio_value  # losses are negative when returns are negative\n",
        "\n",
        "    # Print\n",
        "    print(f\"Confidence Level: {confidence_level:.0%}\")\n",
        "    print(f\"Time Horizon: {horizon_days} day(s)\")\n",
        "    print(f\"Portfolio Value: €{portfolio_value:,.2f}\")\n",
        "    print(f\"Daily Volatility (SMA-based): {sigma_daily:.2%}\")\n",
        "    print(f\"VaR: -{var_percent:.2%} → €{-var_value:,.2f}\")\n",
        "\n",
        "    # Plot histogram of losses (left-skewed)\n",
        "    plt.figure(figsize=(10, 5))\n",
        "    plt.hist(losses, bins=50, alpha=0.7, color='skyblue', edgecolor='black')\n",
        "    plt.axvline(-var_value, color='red', linestyle='--', linewidth=2,\n",
        "                label=f'VaR €{-var_value:,.2f} ({confidence_level:.0%})')\n",
        "    plt.title('Histogram of Portfolio Losses (Parametric VaR)')\n",
        "    plt.xlabel('Portfolio Loss (€)')\n",
        "    plt.ylabel('Frequency')\n",
        "    plt.legend()\n",
        "    plt.grid(True)\n",
        "    plt.tight_layout()\n",
        "    plt.show()\n",
        "\n",
        "    return var_percent, var_value\n"
      ],
      "metadata": {
        "id": "luMBERBJwfCV"
      },
      "execution_count": null,
      "outputs": []
    },
    {
      "cell_type": "code",
      "source": [
        "var_parametric_pct, var_parametric_eur = calculate_parametric_var(\n",
        "    returns_df['Portfolio_Return'],\n",
        "    confidence_level=0.99,\n",
        "    portfolio_value=10000\n",
        ")"
      ],
      "metadata": {
        "colab": {
          "base_uri": "https://localhost:8080/",
          "height": 594
        },
        "id": "ak0bS4mWwgWg",
        "outputId": "be82945e-6dea-4add-de2c-8b10fd7dbfca"
      },
      "execution_count": null,
      "outputs": [
        {
          "output_type": "stream",
          "name": "stdout",
          "text": [
            "Confidence Level: 99%\n",
            "Time Horizon: 1 day(s)\n",
            "Portfolio Value: €10,000.00\n",
            "Daily Volatility (SMA-based): 1.51%\n",
            "VaR: -3.50% → €-350.12\n"
          ]
        },
        {
          "output_type": "display_data",
          "data": {
            "text/plain": [
              "<Figure size 1000x500 with 1 Axes>"
            ],
            "image/png": "[encoded data removed]"
          },
          "metadata": {}
        }
      ]
    },
    {
      "cell_type": "markdown",
      "source": [
        "The 1-day 99% Value at Risk indicates that there is only a 1% chance the portfolio will lose more than €350.12, or 3.50% of its value, in a single day under normal market conditions."
      ],
      "metadata": {
        "id": "AiIqnuMWkdJ3"
      }
    },
    {
      "cell_type": "markdown",
      "source": [
        "<br>"
      ],
      "metadata": {
        "id": "N4pb5eUd-qtK"
      }
    },
    {
      "cell_type": "markdown",
      "source": [
        "## EWNA (Parametric approach)"
      ],
      "metadata": {
        "id": "TBbwacoE67WO"
      }
    },
    {
      "cell_type": "markdown",
      "source": [
        "The EWMA method gives **more weight to recent returns**, making it more responsive to market changes. It uses a **decay factor** $\\lambda$ to exponentially reduce the impact of older observations.\n",
        "\n",
        "The variance is calculated as:\n",
        "\n",
        "$$\n",
        "\\sigma_t^2 = \\sum_{i=1}^{n} (1 - \\lambda) \\cdot \\lambda^{i-1} \\cdot r_i^2\n",
        "$$\n",
        "\n",
        "Where:\n",
        "- $\\lambda$ is the smoothing parameter (commonly set to **0.94**),\n",
        "- $r_i$ is the return at time $i$.\n",
        "\n",
        "The **higher** the $\\lambda$, the **slower** the decay of past data; a **lower** $\\lambda$ gives more weight to recent volatility."
      ],
      "metadata": {
        "id": "sZNZnZ40leFH"
      }
    },
    {
      "cell_type": "code",
      "source": [
        "import matplotlib.pyplot as plt\n",
        "from scipy.stats import norm\n",
        "import numpy as np\n",
        "\n",
        "def calculate_ewma_var(returns, confidence_level=0.95, portfolio_value=10000, horizon_days=1, lambda_=0.94):\n",
        "    \"\"\"\n",
        "    Calculate parametric VaR using EWMA volatility and plot it on a histogram of portfolio losses in €.\n",
        "\n",
        "    Parameters:\n",
        "        returns (array-like): Daily returns of the asset or portfolio.\n",
        "        confidence_level (float): Confidence level (e.g., 0.95).\n",
        "        portfolio_value (float): Portfolio value in monetary units.\n",
        "        horizon_days (int): Time horizon in days (default is 1).\n",
        "        lambda_ (float): Decay factor for EWMA (commonly 0.94).\n",
        "\n",
        "    Returns:\n",
        "        var_percent (float): Value at Risk as a percentage.\n",
        "        var_value (float): Value at Risk in euros.\n",
        "    \"\"\"\n",
        "    returns = np.array(returns)\n",
        "\n",
        "    # Compute EWMA variance\n",
        "    ewma_variance = 0\n",
        "    for i in range(len(returns)):\n",
        "        weight = (1 - lambda_) * (lambda_ ** i)\n",
        "        ewma_variance += weight * returns[-(i + 1)]**2\n",
        "\n",
        "    sigma_ewma = np.sqrt(ewma_variance)\n",
        "    sigma_horizon = sigma_ewma * np.sqrt(horizon_days)\n",
        "\n",
        "    # Compute VaR\n",
        "    z_score = norm.ppf(confidence_level)\n",
        "    var_percent = z_score * sigma_horizon\n",
        "    var_value = var_percent * portfolio_value\n",
        "\n",
        "    # Convert returns to monetary losses\n",
        "    losses = -returns * portfolio_value\n",
        "\n",
        "    # Print results\n",
        "    print(f\"Confidence Level: {confidence_level:.0%}\")\n",
        "    print(f\"Time Horizon: {horizon_days} day(s)\")\n",
        "    print(f\"Portfolio Value: €{portfolio_value:,.2f}\")\n",
        "    print(f\"Daily Volatility (EWMA): {sigma_ewma:.2%}\")\n",
        "    print(f\"VaR: -{var_percent:.2%} → €{-var_value:,.2f}\")\n",
        "\n",
        "    # Plot histogram\n",
        "    plt.figure(figsize=(10, 5))\n",
        "    plt.hist(losses, bins=50, alpha=0.7, color='lightgreen', edgecolor='black')\n",
        "    plt.axvline(-var_value, color='darkred', linestyle='--', linewidth=2,\n",
        "                label=f'VaR €{-var_value:,.2f} ({confidence_level:.0%})')\n",
        "    plt.title('Histogram of Portfolio Losses (EWMA-based VaR)')\n",
        "    plt.xlabel('Portfolio Loss (€)')\n",
        "    plt.ylabel('Frequency')\n",
        "    plt.legend()\n",
        "    plt.grid(True)\n",
        "    plt.tight_layout()\n",
        "    plt.show()\n",
        "\n",
        "    return var_percent, var_value\n"
      ],
      "metadata": {
        "id": "59bpdsyckh6v"
      },
      "execution_count": null,
      "outputs": []
    },
    {
      "cell_type": "code",
      "source": [
        "var_ewma_pct, var_ewma_eur = calculate_ewma_var(\n",
        "    returns_df['Portfolio_Return'],\n",
        "    confidence_level=0.99,\n",
        "    portfolio_value=10000\n",
        ")"
      ],
      "metadata": {
        "colab": {
          "base_uri": "https://localhost:8080/",
          "height": 594
        },
        "id": "Jdjn0Lprlq4K",
        "outputId": "f38206db-6aa2-422b-a49b-7c2edcf1ddec"
      },
      "execution_count": null,
      "outputs": [
        {
          "output_type": "stream",
          "name": "stdout",
          "text": [
            "Confidence Level: 99%\n",
            "Time Horizon: 1 day(s)\n",
            "Portfolio Value: €10,000.00\n",
            "Daily Volatility (EWMA): 1.20%\n",
            "VaR: -2.79% → €-278.58\n"
          ]
        },
        {
          "output_type": "display_data",
          "data": {
            "text/plain": [
              "<Figure size 1000x500 with 1 Axes>"
            ],
            "image/png": "[encoded data removed]"
          },
          "metadata": {}
        }
      ]
    },
    {
      "cell_type": "markdown",
      "source": [
        "The 1-day 99% Value at Risk indicates that there is only a 5% chance the portfolio will lose more than €278.58, or 2.79% of its value, in a single day under normal market conditions."
      ],
      "metadata": {
        "id": "i2VmFAhymoJ6"
      }
    },
    {
      "cell_type": "markdown",
      "source": [
        "**EWMA Weight Decay Structure**"
      ],
      "metadata": {
        "id": "wqCNrgzy-hKV"
      }
    },
    {
      "cell_type": "code",
      "source": [
        "def plot_ewma_weights(n_obs=100, lambda_=0.94):\n",
        "    \"\"\"\n",
        "    Plot the EWMA weights applied to past observations.\n",
        "\n",
        "    Parameters:\n",
        "        n_obs (int): Number of past observations to display.\n",
        "        lambda_ (float): Decay factor for EWMA.\n",
        "\n",
        "    Returns:\n",
        "        None (displays the plot)\n",
        "    \"\"\"\n",
        "    weights = [(1 - lambda_) * (lambda_ ** i) for i in range(n_obs)]\n",
        "    weights = np.array(weights)\n",
        "    weights /= weights.sum()  # Normalize to sum to 1\n",
        "\n",
        "    plt.figure(figsize=(10, 5))\n",
        "    plt.bar(range(n_obs), weights[::-1], color='orange')\n",
        "    plt.title(f\"EWMA Weights Over {n_obs} Observations (λ = {lambda_})\")\n",
        "    plt.xlabel(\"Observation (most recent on the right)\")\n",
        "    plt.ylabel(\"Weight\")\n",
        "    plt.grid(True)\n",
        "    plt.tight_layout()\n",
        "    plt.show()\n",
        "plot_ewma_weights(n_obs=100, lambda_=0.94)"
      ],
      "metadata": {
        "colab": {
          "base_uri": "https://localhost:8080/",
          "height": 507
        },
        "id": "NJhH1DaAl0ed",
        "outputId": "1255176b-6da3-4876-905c-21bf5ccd1ec6"
      },
      "execution_count": null,
      "outputs": [
        {
          "output_type": "display_data",
          "data": {
            "text/plain": [
              "<Figure size 1000x500 with 1 Axes>"
            ],
            "image/png": "[encoded data removed]"
          },
          "metadata": {}
        }
      ]
    },
    {
      "cell_type": "markdown",
      "source": [
        "This chart shows how the EWMA method with λ = 0.94 assigns exponentially decreasing weights, giving more importance to recent observations for volatility or risk estimation."
      ],
      "metadata": {
        "id": "1CTKC5qq-oPL"
      }
    },
    {
      "cell_type": "markdown",
      "source": [
        "<br>"
      ],
      "metadata": {
        "id": "vBC69mn9-pRg"
      }
    },
    {
      "cell_type": "markdown",
      "source": [
        "## Historical Method (Non Parametric approach)"
      ],
      "metadata": {
        "id": "YNKGFwq17JcD"
      }
    },
    {
      "cell_type": "markdown",
      "source": [
        "The **historical simulation method** estimates Value at Risk (VaR) based on **real past returns**, without assuming any specific distribution.\n",
        "\n",
        "It identifies the return at a given confidence level (e.g., the 1th percentile for 99% confidence) and treats it as the worst expected loss.\n",
        "\n",
        "The formula is:\n",
        "\n",
        "$$\n",
        "\\text{VaR}_\\alpha = -\\text{Percentile}_{(1 - \\alpha)}(r) \\times \\text{Portfolio Value}\n",
        "$$\n",
        "\n",
        "Where:\n",
        "- $r$ is the series of historical returns,\n",
        "- $\\alpha$ is the confidence level (e.g., 0.99 for 99% confidence).\n",
        "\n",
        "This method reflects actual market behavior and\n"
      ],
      "metadata": {
        "id": "M4H9ni8No3LM"
      }
    },
    {
      "cell_type": "code",
      "source": [
        "def calculate_historical_var(returns, confidence_level=0.99, portfolio_value=10000):\n",
        "    \"\"\"\n",
        "    Calculate non-parametric VaR using the historical simulation method.\n",
        "\n",
        "    Parameters:\n",
        "        returns (array-like): Daily returns of the asset or portfolio.\n",
        "        confidence_level (float): Confidence level (e.g., 0.95).\n",
        "        portfolio_value (float): Value of the portfolio.\n",
        "\n",
        "    Returns:\n",
        "        None (prints VaR results and shows plot)\n",
        "    \"\"\"\n",
        "    # Sort returns (ascending: worst to best)\n",
        "    sorted_returns = np.sort(returns)\n",
        "\n",
        "    # Calculate the index for the percentile\n",
        "    percentile_index = int((1 - confidence_level) * len(sorted_returns))\n",
        "    var_percent = -sorted_returns[percentile_index]  # Negative because it's a loss\n",
        "    var_value = var_percent * portfolio_value\n",
        "\n",
        "    # Print results\n",
        "    print(f\"Confidence Level: {confidence_level:.0%}\")\n",
        "    print(f\"Portfolio Value: €{portfolio_value:,.2f}\")\n",
        "    print(f\"VaR (Historical): -{var_percent:.2%} → €{-var_value:,.2f}\")\n",
        "\n",
        "    # Plot histogram\n",
        "    plt.figure(figsize=(10, 5))\n",
        "    plt.hist(returns, bins=50, alpha=0.7, color='lightcoral', edgecolor='black')\n",
        "    plt.axvline(sorted_returns[percentile_index], color='darkred', linestyle='--', linewidth=2,\n",
        "                label=f'VaR Threshold ({confidence_level:.0%})')\n",
        "    plt.title('Histogram of Daily Returns with Historical VaR Threshold')\n",
        "    plt.xlabel('Daily Return')\n",
        "    plt.ylabel('Frequency')\n",
        "    plt.legend()\n",
        "    plt.grid(True)\n",
        "    plt.tight_layout()\n",
        "    plt.show()\n",
        "\n",
        "    return var_percent, var_value\n"
      ],
      "metadata": {
        "id": "jn1sBQAno3ai"
      },
      "execution_count": null,
      "outputs": []
    },
    {
      "cell_type": "code",
      "source": [
        "var_hist_pct, var_hist_eur = calculate_historical_var(\n",
        "    returns_df['Portfolio_Return'],\n",
        "    confidence_level=0.99,\n",
        "    portfolio_value=10000\n",
        ")"
      ],
      "metadata": {
        "colab": {
          "base_uri": "https://localhost:8080/",
          "height": 559
        },
        "id": "l6r5f_ySo3zl",
        "outputId": "8ae9b232-e719-449b-f2a2-feac1b9d604a"
      },
      "execution_count": null,
      "outputs": [
        {
          "output_type": "stream",
          "name": "stdout",
          "text": [
            "Confidence Level: 99%\n",
            "Portfolio Value: €10,000.00\n",
            "VaR (Historical): -3.58% → €-358.04\n"
          ]
        },
        {
          "output_type": "display_data",
          "data": {
            "text/plain": [
              "<Figure size 1000x500 with 1 Axes>"
            ],
            "image/png": "[encoded data removed]"
          },
          "metadata": {}
        }
      ]
    },
    {
      "cell_type": "markdown",
      "source": [
        "## Hybrid approach"
      ],
      "metadata": {
        "id": "moM_egUY7Qxm"
      }
    },
    {
      "cell_type": "markdown",
      "source": [
        "The **hybrid approach** combines elements of both **parametric** (like EWMA weighting) and **non-parametric** (historical simulation) methods. It improves the standard historical simulation by giving **more weight to recent returns** and **less to older ones**, using an **exponential decay factor**.\n",
        "\n",
        "The weight for each return is calculated as:\n",
        "\n",
        "$$\n",
        "w(i) = \\frac{\\lambda^{i-1}(1 - \\lambda)}{1 - \\lambda^n}\n",
        "$$\n",
        "\n",
        "Where:\n",
        "- $w(i)$ is the weight assigned to the $i^{th}$ return (ranked from most recent to oldest),\n",
        "- $\\lambda$ is the decay factor,\n",
        "- $n$ is the total number of return observations.\n",
        "\n",
        "Once all returns are weighted, the **VaR is found by accumulating weights** from the worst return upward until the cumulative weight reaches the desired confidence level (e.g., 1% for 99% VaR). Interpolation may be used if the exact percentile falls between two returns."
      ],
      "metadata": {
        "id": "4pz3_rYbpW-l"
      }
    },
    {
      "cell_type": "code",
      "source": [
        "import numpy as np\n",
        "import matplotlib.pyplot as plt\n",
        "\n",
        "def calculate_hybrid_var(returns, confidence_level=0.99, portfolio_value=10000, lambda_=0.94):\n",
        "    \"\"\"\n",
        "    Calculate the hybrid (filtered historical simulation) Value at Risk (VaR)\n",
        "    using exponentially weighted historical returns, and display a histogram\n",
        "    of portfolio losses in €.\n",
        "\n",
        "    Parameters:\n",
        "        returns (array-like): Daily returns of the portfolio.\n",
        "        confidence_level (float): Confidence level (e.g., 0.99 for 1% tail risk).\n",
        "        portfolio_value (float): Current value of the portfolio in €.\n",
        "        lambda_ (float): Exponential decay factor (e.g., 0.94 for financial applications).\n",
        "\n",
        "    Returns:\n",
        "        None (prints results and displays a loss histogram)\n",
        "    \"\"\"\n",
        "    returns = np.array(returns)\n",
        "    n = len(returns)\n",
        "    alpha = 1 - confidence_level\n",
        "\n",
        "    # Step 1: Compute normalized exponential weights (most recent data gets highest weight)\n",
        "    weights = np.array([lambda_**i for i in range(n)][::-1])\n",
        "    weights = weights * (1 - lambda_) / (1 - lambda_**n)\n",
        "\n",
        "    # Step 2: Sort returns and reorder weights accordingly\n",
        "    sorted_indices = np.argsort(returns)\n",
        "    sorted_returns = returns[sorted_indices]\n",
        "    sorted_weights = weights[sorted_indices]\n",
        "\n",
        "    # Step 3: Compute cumulative weights and identify quantile for VaR\n",
        "    cum_weights = np.cumsum(sorted_weights)\n",
        "    idx = np.searchsorted(cum_weights, alpha)\n",
        "\n",
        "    # Interpolate if necessary to precisely locate the alpha-quantile\n",
        "    if cum_weights[idx] == alpha or idx == 0:\n",
        "        var_percent = -sorted_returns[idx]\n",
        "    else:\n",
        "        x0, x1 = cum_weights[idx - 1], cum_weights[idx]\n",
        "        y0, y1 = sorted_returns[idx - 1], sorted_returns[idx]\n",
        "        var_percent = -(y0 + (alpha - x0) * (y1 - y0) / (x1 - x0))\n",
        "\n",
        "    var_value = var_percent * portfolio_value\n",
        "    losses = -returns * portfolio_value  # Convert returns to € losses\n",
        "\n",
        "    # Print summary results\n",
        "    print(f\"Confidence Level: {confidence_level:.0%}\")\n",
        "    print(f\"Portfolio Value: €{portfolio_value:,.2f}\")\n",
        "    print(f\"Hybrid Weighted VaR (λ={lambda_}): -{var_percent:.2%} → €{-var_value:,.2f}\")\n",
        "\n",
        "    # Plot histogram of portfolio losses in €\n",
        "    plt.figure(figsize=(10, 5))\n",
        "    plt.hist(losses, bins=50, alpha=0.7, color='cornflowerblue', edgecolor='black')\n",
        "    plt.axvline(-var_value, color='darkred', linestyle='--', linewidth=2,\n",
        "                label=f'VaR €{-var_value:,.2f} ({confidence_level:.0%})')\n",
        "    plt.title('Histogram of Portfolio Losses (Hybrid VaR)')\n",
        "    plt.xlabel('Portfolio Loss (€)')\n",
        "    plt.ylabel('Frequency')\n",
        "    plt.legend()\n",
        "    plt.grid(True)\n",
        "    plt.tight_layout()\n",
        "    plt.show()\n",
        "\n",
        "    return var_percent, var_value\n"
      ],
      "metadata": {
        "id": "m5WItuD_8LpF"
      },
      "execution_count": null,
      "outputs": []
    },
    {
      "cell_type": "code",
      "source": [
        "var_hybrid_pct, var_hybrid_eur = calculate_hybrid_var(\n",
        "    returns_df['Portfolio_Return'],\n",
        "    confidence_level=0.99,\n",
        "    portfolio_value=10000,\n",
        "    lambda_=0.94\n",
        ")\n"
      ],
      "metadata": {
        "colab": {
          "base_uri": "https://localhost:8080/",
          "height": 559
        },
        "id": "QIPEqqlv6fTg",
        "outputId": "bd5592ff-ac54-4d29-c519-6525937eefad"
      },
      "execution_count": null,
      "outputs": [
        {
          "output_type": "stream",
          "name": "stdout",
          "text": [
            "Confidence Level: 99%\n",
            "Portfolio Value: €10,000.00\n",
            "Hybrid Weighted VaR (λ=0.94): -4.07% → €-406.76\n"
          ]
        },
        {
          "output_type": "display_data",
          "data": {
            "text/plain": [
              "<Figure size 1000x500 with 1 Axes>"
            ],
            "image/png": "[encoded data removed]"
          },
          "metadata": {}
        }
      ]
    },
    {
      "cell_type": "markdown",
      "source": [
        "With 99% confidence, the expected maximum daily loss is €406.76, or 4.07% of the portfolio value."
      ],
      "metadata": {
        "id": "1nyFF8Bm7pv8"
      }
    },
    {
      "cell_type": "markdown",
      "source": [
        "<br>"
      ],
      "metadata": {
        "id": "iexeJrAvwPZk"
      }
    },
    {
      "cell_type": "markdown",
      "source": [
        "## Monte Carlo Value at Risk (VaR)\n",
        "\n",
        "Monte Carlo simulation is a method used to generate a large number of possible future return scenarios based on historical data. From these simulated returns, we estimate the potential extreme loss at a given confidence level. This provides an estimate of the **Value at Risk (VaR)**, which represents the maximum likely loss over a specified time horizon with a certain probability.\n",
        "\n",
        "Two approaches are used here:\n",
        "\n",
        "- **Parametric approach**: This assumes that returns follow a normal distribution $\\mathcal{N}(\\mu, \\sigma^2)$, where $\\mu$ is the historical mean return and $\\sigma$ is the standard deviation. Future returns are simulated using this normal distribution.\n",
        "\n",
        "- **Non-parametric (bootstrap) approach**: This makes no assumption about the distribution of returns. Future returns are simulated by randomly sampling (with replacement) from the historical returns.\n",
        "\n",
        "In both cases, the VaR is calculated as the $(1 - \\alpha)$ quantile of the simulated return distribution, and then converted into monetary loss by multiplying by the portfolio value.\n",
        "\n"
      ],
      "metadata": {
        "id": "goKxsYbTwGpJ"
      }
    },
    {
      "cell_type": "code",
      "source": [
        "import numpy as np\n",
        "import matplotlib.pyplot as plt\n",
        "\n",
        "def calculate_monte_carlo_var(returns, confidence_level=0.99, portfolio_value=10000, n_simulations=10000):\n",
        "    \"\"\"\n",
        "    Calculate Monte Carlo VaR using both parametric and non-parametric (bootstrap) methods,\n",
        "    and plot histogram of simulated returns (%), not losses.\n",
        "\n",
        "    Parameters:\n",
        "        returns (array-like): Historical daily returns.\n",
        "        confidence_level (float): Confidence level (e.g., 0.95).\n",
        "        portfolio_value (float): Value of the portfolio in euros.\n",
        "        n_simulations (int): Number of simulations.\n",
        "\n",
        "    Returns:\n",
        "        simulated_returns_param, simulated_returns_nonparam, var_percent_param, var_percent_nonparam\n",
        "    \"\"\"\n",
        "\n",
        "    returns = np.array(returns)\n",
        "    mean_return = np.mean(returns)\n",
        "    std_return = np.std(returns, ddof=1)\n",
        "\n",
        "    # --- PARAMETRIC MONTE CARLO ---\n",
        "    simulated_returns_param = np.random.normal(loc=mean_return,\n",
        "                                               scale=std_return,\n",
        "                                               size=n_simulations)\n",
        "    var_percent_param = np.percentile(simulated_returns_param, (1 - confidence_level) * 100)\n",
        "    var_value_param = -var_percent_param * portfolio_value\n",
        "\n",
        "    # --- NON-PARAMETRIC MONTE CARLO (BOOTSTRAP) ---\n",
        "    simulated_returns_nonparam = np.random.choice(returns, size=n_simulations, replace=True)\n",
        "    var_percent_nonparam = np.percentile(simulated_returns_nonparam, (1 - confidence_level) * 100)\n",
        "    var_value_nonparam = -var_percent_nonparam * portfolio_value\n",
        "\n",
        "    # Print summary\n",
        "    print(f\"Confidence Level: {confidence_level:.0%}\")\n",
        "    print(f\"Portfolio Value: €{portfolio_value:,.2f}\")\n",
        "    print(f\"Parametric Monte Carlo VaR: {var_percent_param:.2%} → €{var_value_param:.2f}\")\n",
        "    print(f\"Non-Parametric Monte Carlo VaR: {var_percent_nonparam:.2%} → €{var_value_nonparam:.2f}\")\n",
        "\n",
        "    return simulated_returns_param, simulated_returns_nonparam, var_percent_param,var_value_param, var_percent_nonparam, var_value_nonparam\n"
      ],
      "metadata": {
        "id": "aFDhtKRZuD9R"
      },
      "execution_count": null,
      "outputs": []
    },
    {
      "cell_type": "code",
      "source": [
        "def plot_monte_carlo_returns(simulated_returns, var_percent, confidence_level=0.99, method_name=\"Parametric\"):\n",
        "    \"\"\"\n",
        "    Plot histogram of simulated daily returns (%) with VaR line.\n",
        "\n",
        "    Parameters:\n",
        "        simulated_returns (array-like): Simulated returns.\n",
        "        var_percent (float): Value at Risk (as return).\n",
        "        confidence_level (float): VaR confidence level.\n",
        "        method_name (str): Method name for title.\n",
        "    \"\"\"\n",
        "    plt.figure(figsize=(10, 5))\n",
        "    plt.hist(simulated_returns, bins=50, alpha=0.7, color='steelblue', edgecolor='black')\n",
        "    plt.axvline(var_percent, color='red', linestyle='--', linewidth=2,\n",
        "                label=f'VaR {confidence_level:.0%}: {var_percent:.2%}')\n",
        "    plt.title(f'Monte Carlo Simulation ({method_name}) - Simulated Returns')\n",
        "    plt.xlabel('Daily Return (%)')\n",
        "    plt.ylabel('Frequency')\n",
        "    plt.legend()\n",
        "    plt.grid(True)\n",
        "    plt.tight_layout()\n",
        "    plt.show()"
      ],
      "metadata": {
        "id": "2xO400YuuF2w"
      },
      "execution_count": null,
      "outputs": []
    },
    {
      "cell_type": "markdown",
      "source": [
        "**Parametric**"
      ],
      "metadata": {
        "id": "p3cZEbJG7aP6"
      }
    },
    {
      "cell_type": "code",
      "source": [
        "# === Parametric Monte Carlo ===\n",
        "simulated_returns_param, _, var_percent_param, var_value_param, _, _ = calculate_monte_carlo_var(\n",
        "    returns_df['Portfolio_Return'],\n",
        "    confidence_level=0.99,\n",
        "    portfolio_value=10000\n",
        ")\n",
        "\n",
        "# Plot parametric results\n",
        "plot_monte_carlo_returns(simulated_returns_param, var_percent_param, confidence_level=0.99, method_name=\"Parametric\")\n"
      ],
      "metadata": {
        "colab": {
          "base_uri": "https://localhost:8080/",
          "height": 576
        },
        "id": "B7RNH5iotusB",
        "outputId": "3feb0f1c-05ec-4824-d812-2c4f012b9614"
      },
      "execution_count": null,
      "outputs": [
        {
          "output_type": "stream",
          "name": "stdout",
          "text": [
            "Confidence Level: 99%\n",
            "Portfolio Value: €10,000.00\n",
            "Parametric Monte Carlo VaR: -3.24% → €323.94\n",
            "Non-Parametric Monte Carlo VaR: -3.58% → €358.04\n"
          ]
        },
        {
          "output_type": "display_data",
          "data": {
            "text/plain": [
              "<Figure size 1000x500 with 1 Axes>"
            ],
            "image/png": "[encoded data removed]"
          },
          "metadata": {}
        }
      ]
    },
    {
      "cell_type": "markdown",
      "source": [
        "**No Parametric**"
      ],
      "metadata": {
        "id": "nQo0RPmC7cZJ"
      }
    },
    {
      "cell_type": "code",
      "source": [
        "# === Non-Parametric Monte Carlo ===\n",
        "_, simulated_returns_nonparam, _, _, var_percent_nonparam, var_value_nonparam = calculate_monte_carlo_var(\n",
        "    returns_df['Portfolio_Return'],\n",
        "    confidence_level=0.99,\n",
        "    portfolio_value=10000\n",
        ")\n",
        "\n",
        "# Plot non-parametric results\n",
        "plot_monte_carlo_returns(simulated_returns_nonparam, var_percent_nonparam, confidence_level=0.99, method_name=\"Non-Parametric\")\n"
      ],
      "metadata": {
        "colab": {
          "base_uri": "https://localhost:8080/",
          "height": 576
        },
        "id": "L9q4LFH6uxG3",
        "outputId": "1b50fb9d-fd76-40a0-9a1a-a9a8321fe223"
      },
      "execution_count": null,
      "outputs": [
        {
          "output_type": "stream",
          "name": "stdout",
          "text": [
            "Confidence Level: 99%\n",
            "Portfolio Value: €10,000.00\n",
            "Parametric Monte Carlo VaR: -3.20% → €320.24\n",
            "Non-Parametric Monte Carlo VaR: -3.58% → €358.04\n"
          ]
        },
        {
          "output_type": "display_data",
          "data": {
            "text/plain": [
              "<Figure size 1000x500 with 1 Axes>"
            ],
            "image/png": "[encoded data removed]"
          },
          "metadata": {}
        }
      ]
    },
    {
      "cell_type": "markdown",
      "source": [
        "#**Comparative Analysis of VaR Approaches**"
      ],
      "metadata": {
        "id": "OnpUj3m17xwW"
      }
    },
    {
      "cell_type": "markdown",
      "source": [
        "In this section, we compare the Value at Risk (VaR) estimates obtained using the parametric and non-parametric Monte Carlo methods. We examine the differences between the results, and evaluate the accuracy of each model through statistical backtesting.\n",
        "\n",
        "To assess the reliability of each VaR model, we apply two standard backtesting procedures: Kupiec Test and Christoffersen Test\n"
      ],
      "metadata": {
        "id": "7x336CaLycau"
      }
    },
    {
      "cell_type": "markdown",
      "source": [
        "##**Summary of results**"
      ],
      "metadata": {
        "id": "SDUodfsAzrLW"
      }
    },
    {
      "cell_type": "code",
      "source": [
        "import pandas as pd\n",
        "\n",
        "# Summary of results (ensure that you are using the correct variables returned by your functions)\n",
        "results_summary = [\n",
        "    {\"Method\": \"SMA (Parametric)\",          \"VaR %\": var_parametric_pct,    \"VaR €\": -var_parametric_eur},\n",
        "    {\"Method\": \"EWMA (Parametric)\",         \"VaR %\": var_ewma_pct,          \"VaR €\": -var_ewma_eur},\n",
        "    {\"Method\": \"Historical Simulation\",     \"VaR %\": var_hist_pct,          \"VaR €\": -var_hist_eur},\n",
        "    {\"Method\": \"Hybrid (Filtered Hist.)\",   \"VaR %\": var_hybrid_pct,        \"VaR €\": -var_hybrid_eur},\n",
        "    {\"Method\": \"Monte Carlo (Parametric)\",  \"VaR %\": -var_percent_param,     \"VaR €\": -var_value_param},\n",
        "    {\"Method\": \"Monte Carlo (Non-Param.)\",  \"VaR %\": var_percent_nonparam,  \"VaR €\": -var_value_nonparam}\n",
        "]\n",
        "# Create the DataFrame\n",
        "df_summary = pd.DataFrame(results_summary)\n",
        "\n",
        "# Sort by the largest losses (€) in ascending order\n",
        "df_summary = df_summary.sort_values(by=\"VaR €\", ascending=True).reset_index(drop=True)\n",
        "\n",
        "# Formatting: rounding and formatting the numbers\n",
        "df_summary[\"VaR %\"] = df_summary[\"VaR %\"].apply(lambda x: f\"{-x:.2%}\")\n",
        "df_summary[\"VaR €\"] = df_summary[\"VaR €\"].apply(lambda x: f\"€{-x:,.2f}\")\n",
        "\n",
        "# Display the final table\n",
        "print(\"=== Summary of Value at Risk Methods ===\")\n",
        "display(df_summary)"
      ],
      "metadata": {
        "colab": {
          "base_uri": "https://localhost:8080/",
          "height": 254
        },
        "id": "5csLT6BC_6Fy",
        "outputId": "aee77a1f-a4c7-48dc-998b-42cffabe3831"
      },
      "execution_count": null,
      "outputs": [
        {
          "output_type": "stream",
          "name": "stdout",
          "text": [
            "=== Summary of Value at Risk Methods ===\n"
          ]
        },
        {
          "output_type": "display_data",
          "data": {
            "text/plain": [
              "                     Method   VaR %    VaR €\n",
              "0   Hybrid (Filtered Hist.)  -4.07%  €406.76\n",
              "1     Historical Simulation  -3.58%  €358.04\n",
              "2  Monte Carlo (Non-Param.)   3.58%  €358.04\n",
              "3          SMA (Parametric)  -3.50%  €350.12\n",
              "4  Monte Carlo (Parametric)  -3.24%  €323.94\n",
              "5         EWMA (Parametric)  -2.79%  €278.58"
            ],
            "text/html": [
              "\n",
              "  <div id=\"df-2e8b780b-5a0f-4e18-bbe0-21de8a9ad3eb\" class=\"colab-df-container\">\n",
              "    <div>\n",
              "<style scoped>\n",
              "    .dataframe tbody tr th:only-of-type {\n",
              "        vertical-align: middle;\n",
              "    }\n",
              "\n",
              "    .dataframe tbody tr th {\n",
              "        vertical-align: top;\n",
              "    }\n",
              "\n",
              "    .dataframe thead th {\n",
              "        text-align: right;\n",
              "    }\n",
              "</style>\n",
              "<table border=\"1\" class=\"dataframe\">\n",
              "  <thead>\n",
              "    <tr style=\"text-align: right;\">\n",
              "      <th></th>\n",
              "      <th>Method</th>\n",
              "      <th>VaR %</th>\n",
              "      <th>VaR €</th>\n",
              "    </tr>\n",
              "  </thead>\n",
              "  <tbody>\n",
              "    <tr>\n",
              "      <th>0</th>\n",
              "      <td>Hybrid (Filtered Hist.)</td>\n",
              "      <td>-4.07%</td>\n",
              "      <td>€406.76</td>\n",
              "    </tr>\n",
              "    <tr>\n",
              "      <th>1</th>\n",
              "      <td>Historical Simulation</td>\n",
              "      <td>-3.58%</td>\n",
              "      <td>€358.04</td>\n",
              "    </tr>\n",
              "    <tr>\n",
              "      <th>2</th>\n",
              "      <td>Monte Carlo (Non-Param.)</td>\n",
              "      <td>3.58%</td>\n",
              "      <td>€358.04</td>\n",
              "    </tr>\n",
              "    <tr>\n",
              "      <th>3</th>\n",
              "      <td>SMA (Parametric)</td>\n",
              "      <td>-3.50%</td>\n",
              "      <td>€350.12</td>\n",
              "    </tr>\n",
              "    <tr>\n",
              "      <th>4</th>\n",
              "      <td>Monte Carlo (Parametric)</td>\n",
              "      <td>-3.24%</td>\n",
              "      <td>€323.94</td>\n",
              "    </tr>\n",
              "    <tr>\n",
              "      <th>5</th>\n",
              "      <td>EWMA (Parametric)</td>\n",
              "      <td>-2.79%</td>\n",
              "      <td>€278.58</td>\n",
              "    </tr>\n",
              "  </tbody>\n",
              "</table>\n",
              "</div>\n",
              "    <div class=\"colab-df-buttons\">\n",
              "\n",
              "  <div class=\"colab-df-container\">\n",
              "    <button class=\"colab-df-convert\" onclick=\"convertToInteractive('df-2e8b780b-5a0f-4e18-bbe0-21de8a9ad3eb')\"\n",
              "            title=\"Convert this dataframe to an interactive table.\"\n",
              "            style=\"display:none;\">\n",
              "\n",
              "  <svg xmlns=\"http://www.w3.org/2000/svg\" height=\"24px\" viewBox=\"0 -960 960 960\">\n",
              "    <path d=\"M120-120v-720h720v720H120Zm60-500h600v-160H180v160Zm220 220h160v-160H400v160Zm0 220h160v-160H400v160ZM180-400h160v-160H180v160Zm440 0h160v-160H620v160ZM180-180h160v-160H180v160Zm440 0h160v-160H620v160Z\"/>\n",
              "  </svg>\n",
              "    </button>\n",
              "\n",
              "  <style>\n",
              "    .colab-df-container {\n",
              "      display:flex;\n",
              "      gap: 12px;\n",
              "    }\n",
              "\n",
              "    .colab-df-convert {\n",
              "      background-color: #E8F0FE;\n",
              "      border: none;\n",
              "      border-radius: 50%;\n",
              "      cursor: pointer;\n",
              "      display: none;\n",
              "      fill: #1967D2;\n",
              "      height: 32px;\n",
              "      padding: 0 0 0 0;\n",
              "      width: 32px;\n",
              "    }\n",
              "\n",
              "    .colab-df-convert:hover {\n",
              "      background-color: #E2EBFA;\n",
              "      box-shadow: 0px 1px 2px rgba(60, 64, 67, 0.3), 0px 1px 3px 1px rgba(60, 64, 67, 0.15);\n",
              "      fill: #174EA6;\n",
              "    }\n",
              "\n",
              "    .colab-df-buttons div {\n",
              "      margin-bottom: 4px;\n",
              "    }\n",
              "\n",
              "    [theme=dark] .colab-df-convert {\n",
              "      background-color: #3B4455;\n",
              "      fill: #D2E3FC;\n",
              "    }\n",
              "\n",
              "    [theme=dark] .colab-df-convert:hover {\n",
              "      background-color: #434B5C;\n",
              "      box-shadow: 0px 1px 3px 1px rgba(0, 0, 0, 0.15);\n",
              "      filter: drop-shadow(0px 1px 2px rgba(0, 0, 0, 0.3));\n",
              "      fill: #FFFFFF;\n",
              "    }\n",
              "  </style>\n",
              "\n",
              "    <script>\n",
              "      const buttonEl =\n",
              "        document.querySelector('#df-2e8b780b-5a0f-4e18-bbe0-21de8a9ad3eb button.colab-df-convert');\n",
              "      buttonEl.style.display =\n",
              "        google.colab.kernel.accessAllowed ? 'block' : 'none';\n",
              "\n",
              "      async function convertToInteractive(key) {\n",
              "        const element = document.querySelector('#df-2e8b780b-5a0f-4e18-bbe0-21de8a9ad3eb');\n",
              "        const dataTable =\n",
              "          await google.colab.kernel.invokeFunction('convertToInteractive',\n",
              "                                                    [key], {});\n",
              "        if (!dataTable) return;\n",
              "\n",
              "        const docLinkHtml = 'Like what you see? Visit the ' +\n",
              "          '<a target=\"_blank\" href=https://colab.research.google.com/notebooks/data_table.ipynb>data table notebook</a>'\n",
              "          + ' to learn more about interactive tables.';\n",
              "        element.innerHTML = '';\n",
              "        dataTable['output_type'] = 'display_data';\n",
              "        await google.colab.output.renderOutput(dataTable, element);\n",
              "        const docLink = document.createElement('div');\n",
              "        docLink.innerHTML = docLinkHtml;\n",
              "        element.appendChild(docLink);\n",
              "      }\n",
              "    </script>\n",
              "  </div>\n",
              "\n",
              "\n",
              "<div id=\"df-d4dd30c4-0952-4bd4-8445-12aba7fc07ad\">\n",
              "  <button class=\"colab-df-quickchart\" onclick=\"quickchart('df-d4dd30c4-0952-4bd4-8445-12aba7fc07ad')\"\n",
              "            title=\"Suggest charts\"\n",
              "            style=\"display:none;\">\n",
              "\n",
              "<svg xmlns=\"http://www.w3.org/2000/svg\" height=\"24px\"viewBox=\"0 0 24 24\"\n",
              "     width=\"24px\">\n",
              "    <g>\n",
              "        <path d=\"M19 3H5c-1.1 0-2 .9-2 2v14c0 1.1.9 2 2 2h14c1.1 0 2-.9 2-2V5c0-1.1-.9-2-2-2zM9 17H7v-7h2v7zm4 0h-2V7h2v10zm4 0h-2v-4h2v4z\"/>\n",
              "    </g>\n",
              "</svg>\n",
              "  </button>\n",
              "\n",
              "<style>\n",
              "  .colab-df-quickchart {\n",
              "      --bg-color: #E8F0FE;\n",
              "      --fill-color: #1967D2;\n",
              "      --hover-bg-color: #E2EBFA;\n",
              "      --hover-fill-color: #174EA6;\n",
              "      --disabled-fill-color: #AAA;\n",
              "      --disabled-bg-color: #DDD;\n",
              "  }\n",
              "\n",
              "  [theme=dark] .colab-df-quickchart {\n",
              "      --bg-color: #3B4455;\n",
              "      --fill-color: #D2E3FC;\n",
              "      --hover-bg-color: #434B5C;\n",
              "      --hover-fill-color: #FFFFFF;\n",
              "      --disabled-bg-color: #3B4455;\n",
              "      --disabled-fill-color: #666;\n",
              "  }\n",
              "\n",
              "  .colab-df-quickchart {\n",
              "    background-color: var(--bg-color);\n",
              "    border: none;\n",
              "    border-radius: 50%;\n",
              "    cursor: pointer;\n",
              "    display: none;\n",
              "    fill: var(--fill-color);\n",
              "    height: 32px;\n",
              "    padding: 0;\n",
              "    width: 32px;\n",
              "  }\n",
              "\n",
              "  .colab-df-quickchart:hover {\n",
              "    background-color: var(--hover-bg-color);\n",
              "    box-shadow: 0 1px 2px rgba(60, 64, 67, 0.3), 0 1px 3px 1px rgba(60, 64, 67, 0.15);\n",
              "    fill: var(--button-hover-fill-color);\n",
              "  }\n",
              "\n",
              "  .colab-df-quickchart-complete:disabled,\n",
              "  .colab-df-quickchart-complete:disabled:hover {\n",
              "    background-color: var(--disabled-bg-color);\n",
              "    fill: var(--disabled-fill-color);\n",
              "    box-shadow: none;\n",
              "  }\n",
              "\n",
              "  .colab-df-spinner {\n",
              "    border: 2px solid var(--fill-color);\n",
              "    border-color: transparent;\n",
              "    border-bottom-color: var(--fill-color);\n",
              "    animation:\n",
              "      spin 1s steps(1) infinite;\n",
              "  }\n",
              "\n",
              "  @keyframes spin {\n",
              "    0% {\n",
              "      border-color: transparent;\n",
              "      border-bottom-color: var(--fill-color);\n",
              "      border-left-color: var(--fill-color);\n",
              "    }\n",
              "    20% {\n",
              "      border-color: transparent;\n",
              "      border-left-color: var(--fill-color);\n",
              "      border-top-color: var(--fill-color);\n",
              "    }\n",
              "    30% {\n",
              "      border-color: transparent;\n",
              "      border-left-color: var(--fill-color);\n",
              "      border-top-color: var(--fill-color);\n",
              "      border-right-color: var(--fill-color);\n",
              "    }\n",
              "    40% {\n",
              "      border-color: transparent;\n",
              "      border-right-color: var(--fill-color);\n",
              "      border-top-color: var(--fill-color);\n",
              "    }\n",
              "    60% {\n",
              "      border-color: transparent;\n",
              "      border-right-color: var(--fill-color);\n",
              "    }\n",
              "    80% {\n",
              "      border-color: transparent;\n",
              "      border-right-color: var(--fill-color);\n",
              "      border-bottom-color: var(--fill-color);\n",
              "    }\n",
              "    90% {\n",
              "      border-color: transparent;\n",
              "      border-bottom-color: var(--fill-color);\n",
              "    }\n",
              "  }\n",
              "</style>\n",
              "\n",
              "  <script>\n",
              "    async function quickchart(key) {\n",
              "      const quickchartButtonEl =\n",
              "        document.querySelector('#' + key + ' button');\n",
              "      quickchartButtonEl.disabled = true;  // To prevent multiple clicks.\n",
              "      quickchartButtonEl.classList.add('colab-df-spinner');\n",
              "      try {\n",
              "        const charts = await google.colab.kernel.invokeFunction(\n",
              "            'suggestCharts', [key], {});\n",
              "      } catch (error) {\n",
              "        console.error('Error during call to suggestCharts:', error);\n",
              "      }\n",
              "      quickchartButtonEl.classList.remove('colab-df-spinner');\n",
              "      quickchartButtonEl.classList.add('colab-df-quickchart-complete');\n",
              "    }\n",
              "    (() => {\n",
              "      let quickchartButtonEl =\n",
              "        document.querySelector('#df-d4dd30c4-0952-4bd4-8445-12aba7fc07ad button');\n",
              "      quickchartButtonEl.style.display =\n",
              "        google.colab.kernel.accessAllowed ? 'block' : 'none';\n",
              "    })();\n",
              "  </script>\n",
              "</div>\n",
              "\n",
              "  <div id=\"id_741a5c5d-7e3b-4a63-a394-1e1c98c11870\">\n",
              "    <style>\n",
              "      .colab-df-generate {\n",
              "        background-color: #E8F0FE;\n",
              "        border: none;\n",
              "        border-radius: 50%;\n",
              "        cursor: pointer;\n",
              "        display: none;\n",
              "        fill: #1967D2;\n",
              "        height: 32px;\n",
              "        padding: 0 0 0 0;\n",
              "        width: 32px;\n",
              "      }\n",
              "\n",
              "      .colab-df-generate:hover {\n",
              "        background-color: #E2EBFA;\n",
              "        box-shadow: 0px 1px 2px rgba(60, 64, 67, 0.3), 0px 1px 3px 1px rgba(60, 64, 67, 0.15);\n",
              "        fill: #174EA6;\n",
              "      }\n",
              "\n",
              "      [theme=dark] .colab-df-generate {\n",
              "        background-color: #3B4455;\n",
              "        fill: #D2E3FC;\n",
              "      }\n",
              "\n",
              "      [theme=dark] .colab-df-generate:hover {\n",
              "        background-color: #434B5C;\n",
              "        box-shadow: 0px 1px 3px 1px rgba(0, 0, 0, 0.15);\n",
              "        filter: drop-shadow(0px 1px 2px rgba(0, 0, 0, 0.3));\n",
              "        fill: #FFFFFF;\n",
              "      }\n",
              "    </style>\n",
              "    <button class=\"colab-df-generate\" onclick=\"generateWithVariable('df_summary')\"\n",
              "            title=\"Generate code using this dataframe.\"\n",
              "            style=\"display:none;\">\n",
              "\n",
              "  <svg xmlns=\"http://www.w3.org/2000/svg\" height=\"24px\"viewBox=\"0 0 24 24\"\n",
              "       width=\"24px\">\n",
              "    <path d=\"M7,19H8.4L18.45,9,17,7.55,7,17.6ZM5,21V16.75L18.45,3.32a2,2,0,0,1,2.83,0l1.4,1.43a1.91,1.91,0,0,1,.58,1.4,1.91,1.91,0,0,1-.58,1.4L9.25,21ZM18.45,9,17,7.55Zm-12,3A5.31,5.31,0,0,0,4.9,8.1,5.31,5.31,0,0,0,1,6.5,5.31,5.31,0,0,0,4.9,4.9,5.31,5.31,0,0,0,6.5,1,5.31,5.31,0,0,0,8.1,4.9,5.31,5.31,0,0,0,12,6.5,5.46,5.46,0,0,0,6.5,12Z\"/>\n",
              "  </svg>\n",
              "    </button>\n",
              "    <script>\n",
              "      (() => {\n",
              "      const buttonEl =\n",
              "        document.querySelector('#id_741a5c5d-7e3b-4a63-a394-1e1c98c11870 button.colab-df-generate');\n",
              "      buttonEl.style.display =\n",
              "        google.colab.kernel.accessAllowed ? 'block' : 'none';\n",
              "\n",
              "      buttonEl.onclick = () => {\n",
              "        google.colab.notebook.generateWithVariable('df_summary');\n",
              "      }\n",
              "      })();\n",
              "    </script>\n",
              "  </div>\n",
              "\n",
              "    </div>\n",
              "  </div>\n"
            ],
            "application/vnd.google.colaboratory.intrinsic+json": {
              "type": "dataframe",
              "variable_name": "df_summary",
              "summary": "{\n  \"name\": \"df_summary\",\n  \"rows\": 6,\n  \"fields\": [\n    {\n      \"column\": \"Method\",\n      \"properties\": {\n        \"dtype\": \"string\",\n        \"num_unique_values\": 6,\n        \"samples\": [\n          \"Hybrid (Filtered Hist.)\",\n          \"Historical Simulation\",\n          \"EWMA (Parametric)\"\n        ],\n        \"semantic_type\": \"\",\n        \"description\": \"\"\n      }\n    },\n    {\n      \"column\": \"VaR %\",\n      \"properties\": {\n        \"dtype\": \"string\",\n        \"num_unique_values\": 6,\n        \"samples\": [\n          \"-4.07%\",\n          \"-3.58%\",\n          \"-2.79%\"\n        ],\n        \"semantic_type\": \"\",\n        \"description\": \"\"\n      }\n    },\n    {\n      \"column\": \"VaR \\u20ac\",\n      \"properties\": {\n        \"dtype\": \"string\",\n        \"num_unique_values\": 5,\n        \"samples\": [\n          \"\\u20ac358.04\",\n          \"\\u20ac278.58\",\n          \"\\u20ac350.12\"\n        ],\n        \"semantic_type\": \"\",\n        \"description\": \"\"\n      }\n    }\n  ]\n}"
            }
          },
          "metadata": {}
        }
      ]
    },
    {
      "cell_type": "markdown",
      "source": [
        "The results show a consistent ranking of the VaR estimates across methods. The EWMA method yields the lowest risk estimate, reflecting lower recent volatility, while the Hybrid approach provides the most conservative estimate due to its emphasis on both recent and extreme losses. The historical and non-parametric Monte Carlo methods yield identical values, as expected, while SMA and parametric Monte Carlo offer intermediate and relatively stable estimates.\n",
        "\n"
      ],
      "metadata": {
        "id": "NQjYO2l33e4Q"
      }
    },
    {
      "cell_type": "markdown",
      "source": [
        "##**Backtesting**"
      ],
      "metadata": {
        "id": "IIbVEoHz34FL"
      }
    },
    {
      "cell_type": "markdown",
      "source": [
        "To assess the validity of the VaR models, we apply two widely used backtesting techniques. These allow us to verify whether the predicted risk level matches the actual losses observed in the data.\n",
        "\n",
        "- **Kupiec Test (Unconditional Coverage)**  \n",
        "  This test checks whether the proportion of VaR violations corresponds to the expected frequency under the chosen confidence level $\\alpha$.\n",
        "\n",
        "  The test statistic is:\n",
        "\n",
        "  $$\n",
        "  LR_{\\text{uc}} = -2 \\ln \\left[ (1 - \\hat{p})^{n_0} \\hat{p}^{n_1} \\right] + 2 \\ln \\left[ (1 - \\alpha)^{n_0} \\alpha^{n_1} \\right]\n",
        "  $$\n",
        "\n",
        "  where:\n",
        "  - $\\hat{p} = \\frac{n_1}{n}$ is the observed violation rate,\n",
        "  - $n_1$ is the number of exceptions,\n",
        "  - $n_0 = n - n_1$ is the number of non-exceptions,\n",
        "  - $n$ is the total number of observations.\n",
        "\n",
        "- **Christoffersen Test (Conditional Coverage)**  \n",
        "  This test evaluates whether exceptions are independent over time. It combines the **Kupiec test** with a test of **exception clustering** using a first-order Markov chain of violation states.\n",
        "\n",
        "  The Christoffersen test statistic is:\n",
        "\n",
        "  $$\n",
        "  LR_{\\text{cc}} = LR_{\\text{uc}} + LR_{\\text{ind}}\n",
        "  $$\n",
        "\n",
        "  where $LR_{\\text{ind}}$ tests the independence of exceptions."
      ],
      "metadata": {
        "id": "teW-cEXdyxsY"
      }
    },
    {
      "cell_type": "code",
      "source": [
        "import pandas as pd\n",
        "import numpy as np\n",
        "from scipy import stats\n",
        "import warnings\n",
        "warnings.simplefilter(action='ignore', category=FutureWarning)\n",
        "\n",
        "def kupiec_test(violations, total_obs, confidence_level=0.99):\n",
        "    \"\"\"\n",
        "    Performs the Kupiec test (POF - Proportion of Failures) for VaR\n",
        "\n",
        "    Args:\n",
        "        violations: number of observed violations\n",
        "        total_obs: total number of observations\n",
        "        confidence_level: confidence level of VaR (e.g., 0.99 for 99% VaR)\n",
        "\n",
        "    Returns:\n",
        "        p_value: p-value of the test\n",
        "        result: \"Accepted\" if p > 0.06, otherwise \"Rejected\"\n",
        "    \"\"\"\n",
        "    # Theoretical violation rate\n",
        "    alpha = 1 - confidence_level\n",
        "\n",
        "    # Observed violation rate\n",
        "    observed_rate = violations / total_obs\n",
        "\n",
        "    # Calculate the likelihood ratio test statistic\n",
        "    if violations == 0:\n",
        "        # Avoid numerical issues when there are no violations\n",
        "        return 0, \"Rejected\"  # It's suspicious to have no violations\n",
        "\n",
        "    likelihood_ratio = -2 * (np.log((1 - alpha) ** (total_obs - violations) * alpha ** violations) -\n",
        "                            np.log((1 - observed_rate) ** (total_obs - violations) * observed_rate ** violations))\n",
        "\n",
        "    # The statistic follows a Chi-squared distribution with 1 degree of freedom\n",
        "    p_value = 1 - stats.chi2.cdf(likelihood_ratio, 1)\n",
        "\n",
        "    # Test decision (threshold of 6%)\n",
        "    result = \"Accepted\" if p_value > 0.06 else \"Rejected\"\n",
        "\n",
        "    return p_value, result, likelihood_ratio\n",
        "\n",
        "def christoffersen_independence_test(violations):\n",
        "    \"\"\"\n",
        "    Performs the Christoffersen independence test for VaR violations\n",
        "\n",
        "    Args:\n",
        "        violations: binary series of VaR violations (1 for violation, 0 for non-violation)\n",
        "\n",
        "    Returns:\n",
        "        p_value: p-value of the independence test\n",
        "        result: \"Accepted\" if p > 0.05, otherwise \"Rejected\"\n",
        "        likelihood_ratio: the test statistic\n",
        "    \"\"\"\n",
        "    # Count transition pairs\n",
        "    n00 = n01 = n10 = n11 = 0\n",
        "\n",
        "    for i in range(len(violations)-1):\n",
        "        if violations[i] == 0 and violations[i+1] == 0:\n",
        "            n00 += 1\n",
        "        elif violations[i] == 0 and violations[i+1] == 1:\n",
        "            n01 += 1\n",
        "        elif violations[i] == 1 and violations[i+1] == 0:\n",
        "            n10 += 1\n",
        "        elif violations[i] == 1 and violations[i+1] == 1:\n",
        "            n11 += 1\n",
        "\n",
        "    # Handle zero counts to avoid division by zero\n",
        "    if n00 + n01 == 0 or n10 + n11 == 0 or n00 == 0 or n10 == 0:\n",
        "        return 0, \"Insufficient data\", 0\n",
        "\n",
        "    # Probabilities\n",
        "    p01 = n01 / (n00 + n01)\n",
        "    p11 = n11 / (n10 + n11)\n",
        "    p = (n01 + n11) / (n00 + n01 + n10 + n11)\n",
        "\n",
        "    # Calculate the likelihood ratio\n",
        "    likelihood_ratio = -2 * (np.log((1-p)**(n00+n10) * p**(n01+n11)) -\n",
        "                             np.log((1-p01)**n00 * p01**n01 * (1-p11)**n10 * p11**n11))\n",
        "\n",
        "    # Test against the chi-square distribution with 1 degree of freedom\n",
        "    p_value = 1 - stats.chi2.cdf(likelihood_ratio, 1)\n",
        "\n",
        "    # Decision rule\n",
        "    result = \"Accepted\" if p_value > 0.05 else \"Rejected\"\n",
        "\n",
        "    return p_value, result, likelihood_ratio\n",
        "\n",
        "def christoffersen_combined_test(violations, total_obs, confidence_level=0.99):\n",
        "    \"\"\"\n",
        "    Performs Christoffersen's combined test (unconditional coverage + independence)\n",
        "\n",
        "    Args:\n",
        "        violations: binary series of VaR violations (1 for violation, 0 for non-violation)\n",
        "        total_obs: total number of observations\n",
        "        confidence_level: confidence level of VaR (e.g., 0.99 for 99% VaR)\n",
        "\n",
        "    Returns:\n",
        "        uc_pvalue: p-value for unconditional coverage test (Kupiec)\n",
        "        ind_pvalue: p-value for independence test\n",
        "        cc_pvalue: p-value for combined test\n",
        "        result: \"Accepted\" if cc_pvalue > 0.05, otherwise \"Rejected\"\n",
        "    \"\"\"\n",
        "    # Unconditional coverage test (Kupiec test)\n",
        "    num_violations = sum(violations)\n",
        "    alpha = 1 - confidence_level\n",
        "    observed_rate = num_violations / total_obs\n",
        "\n",
        "    if num_violations == 0:\n",
        "        return 0, 0, 0, \"Rejected\"\n",
        "\n",
        "    # Calculate Kupiec test\n",
        "    uc_pvalue, _, uc_stat = kupiec_test(num_violations, total_obs, confidence_level)\n",
        "\n",
        "    # Independence test\n",
        "    ind_pvalue, _, ind_stat = christoffersen_independence_test(violations)\n",
        "\n",
        "    # Combined test (conditional coverage) - sum of the two test statistics\n",
        "    cc_stat = uc_stat + ind_stat\n",
        "    cc_pvalue = 1 - stats.chi2.cdf(cc_stat, 2)  # Combined test has 2 degrees of freedom\n",
        "\n",
        "    # Decision rule\n",
        "    result = \"Accepted\" if cc_pvalue > 0.05 else \"Rejected\"\n",
        "\n",
        "    return uc_pvalue, ind_pvalue, cc_pvalue, result\n",
        "\n",
        "# Assuming we have the return series and calculated VaR values\n",
        "returns = returns_df['Portfolio_Return']\n",
        "\n",
        "# Retrieve VaR values from your dataframe\n",
        "var_methods = {\n",
        "    \"SMA (Parametric)\": var_parametric_pct,\n",
        "    \"EWMA (Parametric)\": var_ewma_pct,  # Added back this method\n",
        "    \"Historical Simulation\": var_hist_pct,\n",
        "    \"Hybrid (Filtered Hist.)\": var_hybrid_pct,\n",
        "    \"Monte Carlo (Parametric)\": -var_percent_param,\n",
        "    \"Monte Carlo (Non-Param.)\": -var_percent_nonparam\n",
        "}\n",
        "\n",
        "# Backtesting over a period of 250 days\n",
        "test_period = 250\n",
        "test_returns = returns[-test_period:]\n",
        "\n",
        "# Results for each test\n",
        "christoffersen_results = []\n",
        "kupiec_results = []\n",
        "\n",
        "for method, var_value in var_methods.items():\n",
        "    # Create binary violation series (1 when violation occurs, 0 otherwise)\n",
        "    violation_series = (test_returns < -var_value).astype(int)\n",
        "    violations_count = sum(violation_series)\n",
        "    violation_rate = violations_count / test_period\n",
        "\n",
        "    # Apply Kupiec test separately\n",
        "    k_pvalue, k_decision, _ = kupiec_test(violations_count, test_period, confidence_level=0.99)\n",
        "\n",
        "    # Apply the Christoffersen combined test\n",
        "    uc_pvalue, ind_pvalue, cc_pvalue, cc_decision = christoffersen_combined_test(\n",
        "        violation_series, test_period, confidence_level=0.99)\n",
        "\n",
        "    # Record Kupiec results\n",
        "    kupiec_results.append({\n",
        "        \"Method\": method,\n",
        "        \"VaR Value\": f\"{var_value:.2%}\",\n",
        "        \"Expected Violations\": f\"{test_period * 0.01:.1f}\",\n",
        "        \"Actual Violations\": violations_count,\n",
        "        \"Violation Rate\": f\"{violation_rate:.2%}\",\n",
        "        \"P-Value\": f\"{k_pvalue:.4f}\",\n",
        "        \"Test Result\": k_decision\n",
        "    })\n",
        "\n",
        "    # Record Christoffersen results\n",
        "    christoffersen_results.append({\n",
        "        \"Method\": method,\n",
        "        \"VaR Value\": f\"{var_value:.2%}\",\n",
        "        \"Expected Violations\": f\"{test_period * 0.01:.1f}\",\n",
        "        \"Actual Violations\": violations_count,\n",
        "        \"Violation Rate\": f\"{violation_rate:.2%}\",\n",
        "        \"UC P-Value\": f\"{uc_pvalue:.4f}\",\n",
        "        \"Ind P-Value\": f\"{ind_pvalue:.4f}\",\n",
        "        \"CC P-Value\": f\"{cc_pvalue:.4f}\",\n",
        "        \"Test Result\": cc_decision\n",
        "    })\n",
        "\n",
        "# Create DataFrames\n",
        "df_kupiec = pd.DataFrame(kupiec_results)\n",
        "df_christoffersen = pd.DataFrame(christoffersen_results)\n",
        "\n",
        "# Combine results into one comprehensive DataFrame\n",
        "combined_results = []\n",
        "for i, method in enumerate(var_methods.keys()):\n",
        "    combined_results.append({\n",
        "        \"Method\": method,\n",
        "        \"VaR Value\": df_kupiec.loc[i, \"VaR Value\"],\n",
        "        \"Expected Violations\": df_kupiec.loc[i, \"Expected Violations\"],\n",
        "        \"Actual Violations\": df_kupiec.loc[i, \"Actual Violations\"],\n",
        "        \"Kupiec P-Value\": df_kupiec.loc[i, \"P-Value\"],\n",
        "        \"Kupiec Result\": df_kupiec.loc[i, \"Test Result\"],\n",
        "        \"Christoffersen Ind P-Value\": df_christoffersen.loc[i, \"Ind P-Value\"],\n",
        "        \"Christoffersen CC P-Value\": df_christoffersen.loc[i, \"CC P-Value\"],\n",
        "        \"Christoffersen Result\": df_christoffersen.loc[i, \"Test Result\"],\n",
        "        \"Overall Assessment\": \"Accepted\" if (df_kupiec.loc[i, \"Test Result\"] == \"Accepted\" and\n",
        "                                           df_christoffersen.loc[i, \"Test Result\"] == \"Accepted\")\n",
        "                             else \"Rejected\"\n",
        "    })\n",
        "\n",
        "# Final combined DataFrame\n",
        "df_combined = pd.DataFrame(combined_results)\n"
      ],
      "metadata": {
        "id": "HuPEfI5CKJp1"
      },
      "execution_count": null,
      "outputs": []
    },
    {
      "cell_type": "code",
      "source": [
        "# Function to color the entire row based on assessment\n",
        "def color_rows_by_assessment(row):\n",
        "    if row[\"Overall Assessment\"] == \"Accepted\":\n",
        "        return ['background-color: #c6efce; color: black'] * len(row)  # light green\n",
        "    else:\n",
        "        return ['background-color: #ffc7ce; color: black'] * len(row)  # light red\n",
        "\n",
        "# Apply the style to all rows\n",
        "styled_df = df_combined.style.apply(color_rows_by_assessment, axis=1)\n",
        "\n",
        "# Display the styled DataFrame\n",
        "styled_df"
      ],
      "metadata": {
        "colab": {
          "base_uri": "https://localhost:8080/",
          "height": 411
        },
        "id": "hRH0V_NoK0oU",
        "outputId": "fa128456-6bab-4a79-ded6-d4c8972ea6fa"
      },
      "execution_count": null,
      "outputs": [
        {
          "output_type": "execute_result",
          "data": {
            "text/plain": [
              "<pandas.io.formats.style.Styler at 0x7a0a3534d7d0>"
            ],
            "text/html": [
              "<style type=\"text/css\">\n",
              "#T_e0c15_row0_col0, #T_e0c15_row0_col1, #T_e0c15_row0_col2, #T_e0c15_row0_col3, #T_e0c15_row0_col4, #T_e0c15_row0_col5, #T_e0c15_row0_col6, #T_e0c15_row0_col7, #T_e0c15_row0_col8, #T_e0c15_row0_col9, #T_e0c15_row2_col0, #T_e0c15_row2_col1, #T_e0c15_row2_col2, #T_e0c15_row2_col3, #T_e0c15_row2_col4, #T_e0c15_row2_col5, #T_e0c15_row2_col6, #T_e0c15_row2_col7, #T_e0c15_row2_col8, #T_e0c15_row2_col9, #T_e0c15_row3_col0, #T_e0c15_row3_col1, #T_e0c15_row3_col2, #T_e0c15_row3_col3, #T_e0c15_row3_col4, #T_e0c15_row3_col5, #T_e0c15_row3_col6, #T_e0c15_row3_col7, #T_e0c15_row3_col8, #T_e0c15_row3_col9, #T_e0c15_row4_col0, #T_e0c15_row4_col1, #T_e0c15_row4_col2, #T_e0c15_row4_col3, #T_e0c15_row4_col4, #T_e0c15_row4_col5, #T_e0c15_row4_col6, #T_e0c15_row4_col7, #T_e0c15_row4_col8, #T_e0c15_row4_col9, #T_e0c15_row5_col0, #T_e0c15_row5_col1, #T_e0c15_row5_col2, #T_e0c15_row5_col3, #T_e0c15_row5_col4, #T_e0c15_row5_col5, #T_e0c15_row5_col6, #T_e0c15_row5_col7, #T_e0c15_row5_col8, #T_e0c15_row5_col9 {\n",
              "  background-color: #c6efce;\n",
              "  color: black;\n",
              "}\n",
              "#T_e0c15_row1_col0, #T_e0c15_row1_col1, #T_e0c15_row1_col2, #T_e0c15_row1_col3, #T_e0c15_row1_col4, #T_e0c15_row1_col5, #T_e0c15_row1_col6, #T_e0c15_row1_col7, #T_e0c15_row1_col8, #T_e0c15_row1_col9 {\n",
              "  background-color: #ffc7ce;\n",
              "  color: black;\n",
              "}\n",
              "</style>\n",
              "<table id=\"T_e0c15\" class=\"dataframe\">\n",
              "  <thead>\n",
              "    <tr>\n",
              "      <th class=\"blank level0\" >&nbsp;</th>\n",
              "      <th id=\"T_e0c15_level0_col0\" class=\"col_heading level0 col0\" >Method</th>\n",
              "      <th id=\"T_e0c15_level0_col1\" class=\"col_heading level0 col1\" >VaR Value</th>\n",
              "      <th id=\"T_e0c15_level0_col2\" class=\"col_heading level0 col2\" >Expected Violations</th>\n",
              "      <th id=\"T_e0c15_level0_col3\" class=\"col_heading level0 col3\" >Actual Violations</th>\n",
              "      <th id=\"T_e0c15_level0_col4\" class=\"col_heading level0 col4\" >Kupiec P-Value</th>\n",
              "      <th id=\"T_e0c15_level0_col5\" class=\"col_heading level0 col5\" >Kupiec Result</th>\n",
              "      <th id=\"T_e0c15_level0_col6\" class=\"col_heading level0 col6\" >Christoffersen Ind P-Value</th>\n",
              "      <th id=\"T_e0c15_level0_col7\" class=\"col_heading level0 col7\" >Christoffersen CC P-Value</th>\n",
              "      <th id=\"T_e0c15_level0_col8\" class=\"col_heading level0 col8\" >Christoffersen Result</th>\n",
              "      <th id=\"T_e0c15_level0_col9\" class=\"col_heading level0 col9\" >Overall Assessment</th>\n",
              "    </tr>\n",
              "  </thead>\n",
              "  <tbody>\n",
              "    <tr>\n",
              "      <th id=\"T_e0c15_level0_row0\" class=\"row_heading level0 row0\" >0</th>\n",
              "      <td id=\"T_e0c15_row0_col0\" class=\"data row0 col0\" >SMA (Parametric)</td>\n",
              "      <td id=\"T_e0c15_row0_col1\" class=\"data row0 col1\" >3.50%</td>\n",
              "      <td id=\"T_e0c15_row0_col2\" class=\"data row0 col2\" >2.5</td>\n",
              "      <td id=\"T_e0c15_row0_col3\" class=\"data row0 col3\" >3</td>\n",
              "      <td id=\"T_e0c15_row0_col4\" class=\"data row0 col4\" >0.7580</td>\n",
              "      <td id=\"T_e0c15_row0_col5\" class=\"data row0 col5\" >Accepted</td>\n",
              "      <td id=\"T_e0c15_row0_col6\" class=\"data row0 col6\" >0.7863</td>\n",
              "      <td id=\"T_e0c15_row0_col7\" class=\"data row0 col7\" >0.9192</td>\n",
              "      <td id=\"T_e0c15_row0_col8\" class=\"data row0 col8\" >Accepted</td>\n",
              "      <td id=\"T_e0c15_row0_col9\" class=\"data row0 col9\" >Accepted</td>\n",
              "    </tr>\n",
              "    <tr>\n",
              "      <th id=\"T_e0c15_level0_row1\" class=\"row_heading level0 row1\" >1</th>\n",
              "      <td id=\"T_e0c15_row1_col0\" class=\"data row1 col0\" >EWMA (Parametric)</td>\n",
              "      <td id=\"T_e0c15_row1_col1\" class=\"data row1 col1\" >2.79%</td>\n",
              "      <td id=\"T_e0c15_row1_col2\" class=\"data row1 col2\" >2.5</td>\n",
              "      <td id=\"T_e0c15_row1_col3\" class=\"data row1 col3\" >6</td>\n",
              "      <td id=\"T_e0c15_row1_col4\" class=\"data row1 col4\" >0.0594</td>\n",
              "      <td id=\"T_e0c15_row1_col5\" class=\"data row1 col5\" >Rejected</td>\n",
              "      <td id=\"T_e0c15_row1_col6\" class=\"data row1 col6\" >0.6189</td>\n",
              "      <td id=\"T_e0c15_row1_col7\" class=\"data row1 col7\" >0.1494</td>\n",
              "      <td id=\"T_e0c15_row1_col8\" class=\"data row1 col8\" >Accepted</td>\n",
              "      <td id=\"T_e0c15_row1_col9\" class=\"data row1 col9\" >Rejected</td>\n",
              "    </tr>\n",
              "    <tr>\n",
              "      <th id=\"T_e0c15_level0_row2\" class=\"row_heading level0 row2\" >2</th>\n",
              "      <td id=\"T_e0c15_row2_col0\" class=\"data row2 col0\" >Historical Simulation</td>\n",
              "      <td id=\"T_e0c15_row2_col1\" class=\"data row2 col1\" >3.58%</td>\n",
              "      <td id=\"T_e0c15_row2_col2\" class=\"data row2 col2\" >2.5</td>\n",
              "      <td id=\"T_e0c15_row2_col3\" class=\"data row2 col3\" >2</td>\n",
              "      <td id=\"T_e0c15_row2_col4\" class=\"data row2 col4\" >0.7419</td>\n",
              "      <td id=\"T_e0c15_row2_col5\" class=\"data row2 col5\" >Accepted</td>\n",
              "      <td id=\"T_e0c15_row2_col6\" class=\"data row2 col6\" >0.8569</td>\n",
              "      <td id=\"T_e0c15_row2_col7\" class=\"data row2 col7\" >0.9319</td>\n",
              "      <td id=\"T_e0c15_row2_col8\" class=\"data row2 col8\" >Accepted</td>\n",
              "      <td id=\"T_e0c15_row2_col9\" class=\"data row2 col9\" >Accepted</td>\n",
              "    </tr>\n",
              "    <tr>\n",
              "      <th id=\"T_e0c15_level0_row3\" class=\"row_heading level0 row3\" >3</th>\n",
              "      <td id=\"T_e0c15_row3_col0\" class=\"data row3 col0\" >Hybrid (Filtered Hist.)</td>\n",
              "      <td id=\"T_e0c15_row3_col1\" class=\"data row3 col1\" >4.07%</td>\n",
              "      <td id=\"T_e0c15_row3_col2\" class=\"data row3 col2\" >2.5</td>\n",
              "      <td id=\"T_e0c15_row3_col3\" class=\"data row3 col3\" >1</td>\n",
              "      <td id=\"T_e0c15_row3_col4\" class=\"data row3 col4\" >0.2781</td>\n",
              "      <td id=\"T_e0c15_row3_col5\" class=\"data row3 col5\" >Accepted</td>\n",
              "      <td id=\"T_e0c15_row3_col6\" class=\"data row3 col6\" >0.9283</td>\n",
              "      <td id=\"T_e0c15_row3_col7\" class=\"data row3 col7\" >0.5531</td>\n",
              "      <td id=\"T_e0c15_row3_col8\" class=\"data row3 col8\" >Accepted</td>\n",
              "      <td id=\"T_e0c15_row3_col9\" class=\"data row3 col9\" >Accepted</td>\n",
              "    </tr>\n",
              "    <tr>\n",
              "      <th id=\"T_e0c15_level0_row4\" class=\"row_heading level0 row4\" >4</th>\n",
              "      <td id=\"T_e0c15_row4_col0\" class=\"data row4 col0\" >Monte Carlo (Parametric)</td>\n",
              "      <td id=\"T_e0c15_row4_col1\" class=\"data row4 col1\" >3.24%</td>\n",
              "      <td id=\"T_e0c15_row4_col2\" class=\"data row4 col2\" >2.5</td>\n",
              "      <td id=\"T_e0c15_row4_col3\" class=\"data row4 col3\" >3</td>\n",
              "      <td id=\"T_e0c15_row4_col4\" class=\"data row4 col4\" >0.7580</td>\n",
              "      <td id=\"T_e0c15_row4_col5\" class=\"data row4 col5\" >Accepted</td>\n",
              "      <td id=\"T_e0c15_row4_col6\" class=\"data row4 col6\" >0.7863</td>\n",
              "      <td id=\"T_e0c15_row4_col7\" class=\"data row4 col7\" >0.9192</td>\n",
              "      <td id=\"T_e0c15_row4_col8\" class=\"data row4 col8\" >Accepted</td>\n",
              "      <td id=\"T_e0c15_row4_col9\" class=\"data row4 col9\" >Accepted</td>\n",
              "    </tr>\n",
              "    <tr>\n",
              "      <th id=\"T_e0c15_level0_row5\" class=\"row_heading level0 row5\" >5</th>\n",
              "      <td id=\"T_e0c15_row5_col0\" class=\"data row5 col0\" >Monte Carlo (Non-Param.)</td>\n",
              "      <td id=\"T_e0c15_row5_col1\" class=\"data row5 col1\" >3.58%</td>\n",
              "      <td id=\"T_e0c15_row5_col2\" class=\"data row5 col2\" >2.5</td>\n",
              "      <td id=\"T_e0c15_row5_col3\" class=\"data row5 col3\" >2</td>\n",
              "      <td id=\"T_e0c15_row5_col4\" class=\"data row5 col4\" >0.7419</td>\n",
              "      <td id=\"T_e0c15_row5_col5\" class=\"data row5 col5\" >Accepted</td>\n",
              "      <td id=\"T_e0c15_row5_col6\" class=\"data row5 col6\" >0.8569</td>\n",
              "      <td id=\"T_e0c15_row5_col7\" class=\"data row5 col7\" >0.9319</td>\n",
              "      <td id=\"T_e0c15_row5_col8\" class=\"data row5 col8\" >Accepted</td>\n",
              "      <td id=\"T_e0c15_row5_col9\" class=\"data row5 col9\" >Accepted</td>\n",
              "    </tr>\n",
              "  </tbody>\n",
              "</table>\n"
            ]
          },
          "metadata": {},
          "execution_count": 23
        }
      ]
    },
    {
      "cell_type": "markdown",
      "source": [
        "- **All VaR methods pass the backtesting test (except EWMA)**, adhering to the required number of violations. Furthermore, the tests for backtesting (**Kupiec** and **Christoffersen** tests) also indicate no issues.\n",
        "\n",
        "- However, the **EWMA VaR** fails the backtesting process, with a **total of 6 violations**, which exceeds the expected level for a **99% confidence VaR** over **250 observations**. This places the method in the **“yellow zone”** as defined by regulatory guidelines, indicating a **potential weakness in risk estimation** and the possibility of **supervisory penalties**.\n",
        "\n",
        "- This result is likely due to the **over-smoothing effect** of the EWMA approach, which can underreact to **recent increases in volatility** and lead to **underestimated risk**.\n",
        "\n",
        "- If such a model were used for **regulatory capital calculations**, the institution could face **increased capital requirements**, as supervisory authorities like the **ACPR** in France apply a **penalty multiplier** when a model exceeds the allowed number of violations.\n",
        "\n",
        "> **See Table 1 in the Appendix** for the definition of regulatory backtesting zones and the associated penalty multipliers under the **Basel II-III framework**."
      ],
      "metadata": {
        "id": "n9652Vg_Jt-5"
      }
    },
    {
      "cell_type": "markdown",
      "source": [
        "<br>"
      ],
      "metadata": {
        "id": "U9Tkvoph0Iqo"
      }
    },
    {
      "cell_type": "markdown",
      "source": [
        "# VaR Estimation Across Time Horizons"
      ],
      "metadata": {
        "id": "X-YR7a1z7fi9"
      }
    },
    {
      "cell_type": "code",
      "source": [
        "# Scaling factors based on square-root-of-time rule\n",
        "portfolio_value=10000\n",
        "periods = {\n",
        "    \"Daily (Historical)\": 1,\n",
        "    \"Weekly (Historical)\": np.sqrt(5),\n",
        "    \"Monthly (Historical)\": np.sqrt(21),\n",
        "    \"Annual (Historical)\": np.sqrt(252)\n",
        "}\n",
        "\n",
        "# Store scaled Historical VaR values\n",
        "historical_var_results = {}\n",
        "\n",
        "for period, multiplier in periods.items():\n",
        "    var_percent = var_hist_pct * multiplier\n",
        "    var_value = var_percent * portfolio_value\n",
        "    historical_var_results[period] = {\n",
        "        \"VaR %\": f\"{var_percent:.2%}\",\n",
        "        \"VaR €\": f\"€{var_value:,.2f}\"\n",
        "    }\n",
        "\n",
        "# Create a DataFrame for display\n",
        "historical_var_df = pd.DataFrame.from_dict(historical_var_results, orient=\"index\")\n",
        "\n",
        "# Display the result\n",
        "display(historical_var_df)"
      ],
      "metadata": {
        "id": "NGlcsNHF6tTI",
        "colab": {
          "base_uri": "https://localhost:8080/",
          "height": 174
        },
        "outputId": "eda079a7-cc13-43b5-b134-c7023114ced9"
      },
      "execution_count": null,
      "outputs": [
        {
          "output_type": "display_data",
          "data": {
            "text/plain": [
              "                       VaR %      VaR €\n",
              "Daily (Historical)     3.58%    €358.04\n",
              "Weekly (Historical)    8.01%    €800.60\n",
              "Monthly (Historical)  16.41%  €1,640.74\n",
              "Annual (Historical)   56.84%  €5,683.70"
            ],
            "text/html": [
              "\n",
              "  <div id=\"df-d991c666-b2c5-4bf2-841a-c32b66b1728b\" class=\"colab-df-container\">\n",
              "    <div>\n",
              "<style scoped>\n",
              "    .dataframe tbody tr th:only-of-type {\n",
              "        vertical-align: middle;\n",
              "    }\n",
              "\n",
              "    .dataframe tbody tr th {\n",
              "        vertical-align: top;\n",
              "    }\n",
              "\n",
              "    .dataframe thead th {\n",
              "        text-align: right;\n",
              "    }\n",
              "</style>\n",
              "<table border=\"1\" class=\"dataframe\">\n",
              "  <thead>\n",
              "    <tr style=\"text-align: right;\">\n",
              "      <th></th>\n",
              "      <th>VaR %</th>\n",
              "      <th>VaR €</th>\n",
              "    </tr>\n",
              "  </thead>\n",
              "  <tbody>\n",
              "    <tr>\n",
              "      <th>Daily (Historical)</th>\n",
              "      <td>3.58%</td>\n",
              "      <td>€358.04</td>\n",
              "    </tr>\n",
              "    <tr>\n",
              "      <th>Weekly (Historical)</th>\n",
              "      <td>8.01%</td>\n",
              "      <td>€800.60</td>\n",
              "    </tr>\n",
              "    <tr>\n",
              "      <th>Monthly (Historical)</th>\n",
              "      <td>16.41%</td>\n",
              "      <td>€1,640.74</td>\n",
              "    </tr>\n",
              "    <tr>\n",
              "      <th>Annual (Historical)</th>\n",
              "      <td>56.84%</td>\n",
              "      <td>€5,683.70</td>\n",
              "    </tr>\n",
              "  </tbody>\n",
              "</table>\n",
              "</div>\n",
              "    <div class=\"colab-df-buttons\">\n",
              "\n",
              "  <div class=\"colab-df-container\">\n",
              "    <button class=\"colab-df-convert\" onclick=\"convertToInteractive('df-d991c666-b2c5-4bf2-841a-c32b66b1728b')\"\n",
              "            title=\"Convert this dataframe to an interactive table.\"\n",
              "            style=\"display:none;\">\n",
              "\n",
              "  <svg xmlns=\"http://www.w3.org/2000/svg\" height=\"24px\" viewBox=\"0 -960 960 960\">\n",
              "    <path d=\"M120-120v-720h720v720H120Zm60-500h600v-160H180v160Zm220 220h160v-160H400v160Zm0 220h160v-160H400v160ZM180-400h160v-160H180v160Zm440 0h160v-160H620v160ZM180-180h160v-160H180v160Zm440 0h160v-160H620v160Z\"/>\n",
              "  </svg>\n",
              "    </button>\n",
              "\n",
              "  <style>\n",
              "    .colab-df-container {\n",
              "      display:flex;\n",
              "      gap: 12px;\n",
              "    }\n",
              "\n",
              "    .colab-df-convert {\n",
              "      background-color: #E8F0FE;\n",
              "      border: none;\n",
              "      border-radius: 50%;\n",
              "      cursor: pointer;\n",
              "      display: none;\n",
              "      fill: #1967D2;\n",
              "      height: 32px;\n",
              "      padding: 0 0 0 0;\n",
              "      width: 32px;\n",
              "    }\n",
              "\n",
              "    .colab-df-convert:hover {\n",
              "      background-color: #E2EBFA;\n",
              "      box-shadow: 0px 1px 2px rgba(60, 64, 67, 0.3), 0px 1px 3px 1px rgba(60, 64, 67, 0.15);\n",
              "      fill: #174EA6;\n",
              "    }\n",
              "\n",
              "    .colab-df-buttons div {\n",
              "      margin-bottom: 4px;\n",
              "    }\n",
              "\n",
              "    [theme=dark] .colab-df-convert {\n",
              "      background-color: #3B4455;\n",
              "      fill: #D2E3FC;\n",
              "    }\n",
              "\n",
              "    [theme=dark] .colab-df-convert:hover {\n",
              "      background-color: #434B5C;\n",
              "      box-shadow: 0px 1px 3px 1px rgba(0, 0, 0, 0.15);\n",
              "      filter: drop-shadow(0px 1px 2px rgba(0, 0, 0, 0.3));\n",
              "      fill: #FFFFFF;\n",
              "    }\n",
              "  </style>\n",
              "\n",
              "    <script>\n",
              "      const buttonEl =\n",
              "        document.querySelector('#df-d991c666-b2c5-4bf2-841a-c32b66b1728b button.colab-df-convert');\n",
              "      buttonEl.style.display =\n",
              "        google.colab.kernel.accessAllowed ? 'block' : 'none';\n",
              "\n",
              "      async function convertToInteractive(key) {\n",
              "        const element = document.querySelector('#df-d991c666-b2c5-4bf2-841a-c32b66b1728b');\n",
              "        const dataTable =\n",
              "          await google.colab.kernel.invokeFunction('convertToInteractive',\n",
              "                                                    [key], {});\n",
              "        if (!dataTable) return;\n",
              "\n",
              "        const docLinkHtml = 'Like what you see? Visit the ' +\n",
              "          '<a target=\"_blank\" href=https://colab.research.google.com/notebooks/data_table.ipynb>data table notebook</a>'\n",
              "          + ' to learn more about interactive tables.';\n",
              "        element.innerHTML = '';\n",
              "        dataTable['output_type'] = 'display_data';\n",
              "        await google.colab.output.renderOutput(dataTable, element);\n",
              "        const docLink = document.createElement('div');\n",
              "        docLink.innerHTML = docLinkHtml;\n",
              "        element.appendChild(docLink);\n",
              "      }\n",
              "    </script>\n",
              "  </div>\n",
              "\n",
              "\n",
              "<div id=\"df-025f511b-02f5-4a8f-bfae-7e3ffa50d08c\">\n",
              "  <button class=\"colab-df-quickchart\" onclick=\"quickchart('df-025f511b-02f5-4a8f-bfae-7e3ffa50d08c')\"\n",
              "            title=\"Suggest charts\"\n",
              "            style=\"display:none;\">\n",
              "\n",
              "<svg xmlns=\"http://www.w3.org/2000/svg\" height=\"24px\"viewBox=\"0 0 24 24\"\n",
              "     width=\"24px\">\n",
              "    <g>\n",
              "        <path d=\"M19 3H5c-1.1 0-2 .9-2 2v14c0 1.1.9 2 2 2h14c1.1 0 2-.9 2-2V5c0-1.1-.9-2-2-2zM9 17H7v-7h2v7zm4 0h-2V7h2v10zm4 0h-2v-4h2v4z\"/>\n",
              "    </g>\n",
              "</svg>\n",
              "  </button>\n",
              "\n",
              "<style>\n",
              "  .colab-df-quickchart {\n",
              "      --bg-color: #E8F0FE;\n",
              "      --fill-color: #1967D2;\n",
              "      --hover-bg-color: #E2EBFA;\n",
              "      --hover-fill-color: #174EA6;\n",
              "      --disabled-fill-color: #AAA;\n",
              "      --disabled-bg-color: #DDD;\n",
              "  }\n",
              "\n",
              "  [theme=dark] .colab-df-quickchart {\n",
              "      --bg-color: #3B4455;\n",
              "      --fill-color: #D2E3FC;\n",
              "      --hover-bg-color: #434B5C;\n",
              "      --hover-fill-color: #FFFFFF;\n",
              "      --disabled-bg-color: #3B4455;\n",
              "      --disabled-fill-color: #666;\n",
              "  }\n",
              "\n",
              "  .colab-df-quickchart {\n",
              "    background-color: var(--bg-color);\n",
              "    border: none;\n",
              "    border-radius: 50%;\n",
              "    cursor: pointer;\n",
              "    display: none;\n",
              "    fill: var(--fill-color);\n",
              "    height: 32px;\n",
              "    padding: 0;\n",
              "    width: 32px;\n",
              "  }\n",
              "\n",
              "  .colab-df-quickchart:hover {\n",
              "    background-color: var(--hover-bg-color);\n",
              "    box-shadow: 0 1px 2px rgba(60, 64, 67, 0.3), 0 1px 3px 1px rgba(60, 64, 67, 0.15);\n",
              "    fill: var(--button-hover-fill-color);\n",
              "  }\n",
              "\n",
              "  .colab-df-quickchart-complete:disabled,\n",
              "  .colab-df-quickchart-complete:disabled:hover {\n",
              "    background-color: var(--disabled-bg-color);\n",
              "    fill: var(--disabled-fill-color);\n",
              "    box-shadow: none;\n",
              "  }\n",
              "\n",
              "  .colab-df-spinner {\n",
              "    border: 2px solid var(--fill-color);\n",
              "    border-color: transparent;\n",
              "    border-bottom-color: var(--fill-color);\n",
              "    animation:\n",
              "      spin 1s steps(1) infinite;\n",
              "  }\n",
              "\n",
              "  @keyframes spin {\n",
              "    0% {\n",
              "      border-color: transparent;\n",
              "      border-bottom-color: var(--fill-color);\n",
              "      border-left-color: var(--fill-color);\n",
              "    }\n",
              "    20% {\n",
              "      border-color: transparent;\n",
              "      border-left-color: var(--fill-color);\n",
              "      border-top-color: var(--fill-color);\n",
              "    }\n",
              "    30% {\n",
              "      border-color: transparent;\n",
              "      border-left-color: var(--fill-color);\n",
              "      border-top-color: var(--fill-color);\n",
              "      border-right-color: var(--fill-color);\n",
              "    }\n",
              "    40% {\n",
              "      border-color: transparent;\n",
              "      border-right-color: var(--fill-color);\n",
              "      border-top-color: var(--fill-color);\n",
              "    }\n",
              "    60% {\n",
              "      border-color: transparent;\n",
              "      border-right-color: var(--fill-color);\n",
              "    }\n",
              "    80% {\n",
              "      border-color: transparent;\n",
              "      border-right-color: var(--fill-color);\n",
              "      border-bottom-color: var(--fill-color);\n",
              "    }\n",
              "    90% {\n",
              "      border-color: transparent;\n",
              "      border-bottom-color: var(--fill-color);\n",
              "    }\n",
              "  }\n",
              "</style>\n",
              "\n",
              "  <script>\n",
              "    async function quickchart(key) {\n",
              "      const quickchartButtonEl =\n",
              "        document.querySelector('#' + key + ' button');\n",
              "      quickchartButtonEl.disabled = true;  // To prevent multiple clicks.\n",
              "      quickchartButtonEl.classList.add('colab-df-spinner');\n",
              "      try {\n",
              "        const charts = await google.colab.kernel.invokeFunction(\n",
              "            'suggestCharts', [key], {});\n",
              "      } catch (error) {\n",
              "        console.error('Error during call to suggestCharts:', error);\n",
              "      }\n",
              "      quickchartButtonEl.classList.remove('colab-df-spinner');\n",
              "      quickchartButtonEl.classList.add('colab-df-quickchart-complete');\n",
              "    }\n",
              "    (() => {\n",
              "      let quickchartButtonEl =\n",
              "        document.querySelector('#df-025f511b-02f5-4a8f-bfae-7e3ffa50d08c button');\n",
              "      quickchartButtonEl.style.display =\n",
              "        google.colab.kernel.accessAllowed ? 'block' : 'none';\n",
              "    })();\n",
              "  </script>\n",
              "</div>\n",
              "\n",
              "  <div id=\"id_3af2161d-48d5-43ea-b5fe-d57127cdabfc\">\n",
              "    <style>\n",
              "      .colab-df-generate {\n",
              "        background-color: #E8F0FE;\n",
              "        border: none;\n",
              "        border-radius: 50%;\n",
              "        cursor: pointer;\n",
              "        display: none;\n",
              "        fill: #1967D2;\n",
              "        height: 32px;\n",
              "        padding: 0 0 0 0;\n",
              "        width: 32px;\n",
              "      }\n",
              "\n",
              "      .colab-df-generate:hover {\n",
              "        background-color: #E2EBFA;\n",
              "        box-shadow: 0px 1px 2px rgba(60, 64, 67, 0.3), 0px 1px 3px 1px rgba(60, 64, 67, 0.15);\n",
              "        fill: #174EA6;\n",
              "      }\n",
              "\n",
              "      [theme=dark] .colab-df-generate {\n",
              "        background-color: #3B4455;\n",
              "        fill: #D2E3FC;\n",
              "      }\n",
              "\n",
              "      [theme=dark] .colab-df-generate:hover {\n",
              "        background-color: #434B5C;\n",
              "        box-shadow: 0px 1px 3px 1px rgba(0, 0, 0, 0.15);\n",
              "        filter: drop-shadow(0px 1px 2px rgba(0, 0, 0, 0.3));\n",
              "        fill: #FFFFFF;\n",
              "      }\n",
              "    </style>\n",
              "    <button class=\"colab-df-generate\" onclick=\"generateWithVariable('historical_var_df')\"\n",
              "            title=\"Generate code using this dataframe.\"\n",
              "            style=\"display:none;\">\n",
              "\n",
              "  <svg xmlns=\"http://www.w3.org/2000/svg\" height=\"24px\"viewBox=\"0 0 24 24\"\n",
              "       width=\"24px\">\n",
              "    <path d=\"M7,19H8.4L18.45,9,17,7.55,7,17.6ZM5,21V16.75L18.45,3.32a2,2,0,0,1,2.83,0l1.4,1.43a1.91,1.91,0,0,1,.58,1.4,1.91,1.91,0,0,1-.58,1.4L9.25,21ZM18.45,9,17,7.55Zm-12,3A5.31,5.31,0,0,0,4.9,8.1,5.31,5.31,0,0,0,1,6.5,5.31,5.31,0,0,0,4.9,4.9,5.31,5.31,0,0,0,6.5,1,5.31,5.31,0,0,0,8.1,4.9,5.31,5.31,0,0,0,12,6.5,5.46,5.46,0,0,0,6.5,12Z\"/>\n",
              "  </svg>\n",
              "    </button>\n",
              "    <script>\n",
              "      (() => {\n",
              "      const buttonEl =\n",
              "        document.querySelector('#id_3af2161d-48d5-43ea-b5fe-d57127cdabfc button.colab-df-generate');\n",
              "      buttonEl.style.display =\n",
              "        google.colab.kernel.accessAllowed ? 'block' : 'none';\n",
              "\n",
              "      buttonEl.onclick = () => {\n",
              "        google.colab.notebook.generateWithVariable('historical_var_df');\n",
              "      }\n",
              "      })();\n",
              "    </script>\n",
              "  </div>\n",
              "\n",
              "    </div>\n",
              "  </div>\n"
            ],
            "application/vnd.google.colaboratory.intrinsic+json": {
              "type": "dataframe",
              "variable_name": "historical_var_df",
              "summary": "{\n  \"name\": \"historical_var_df\",\n  \"rows\": 4,\n  \"fields\": [\n    {\n      \"column\": \"VaR %\",\n      \"properties\": {\n        \"dtype\": \"string\",\n        \"num_unique_values\": 4,\n        \"samples\": [\n          \"8.01%\",\n          \"56.84%\",\n          \"3.58%\"\n        ],\n        \"semantic_type\": \"\",\n        \"description\": \"\"\n      }\n    },\n    {\n      \"column\": \"VaR \\u20ac\",\n      \"properties\": {\n        \"dtype\": \"string\",\n        \"num_unique_values\": 4,\n        \"samples\": [\n          \"\\u20ac800.60\",\n          \"\\u20ac5,683.70\",\n          \"\\u20ac358.04\"\n        ],\n        \"semantic_type\": \"\",\n        \"description\": \"\"\n      }\n    }\n  ]\n}"
            }
          },
          "metadata": {}
        }
      ]
    },
    {
      "cell_type": "markdown",
      "source": [
        "- The scaling of VaR using the square-root-of-time rule results in increasing risk estimates across longer horizons, as seen by the progression from 3.58% daily to 56.84% annually.\n",
        "- However, this assumes independent and identically distributed (i.i.d.) returns, which may not hold in real-world market conditions—particularly during stress periods, where tail dependencies and volatility clustering can affect risk aggregation. This is precisely why regulators and practitioners also compute a **Stressed VaR**."
      ],
      "metadata": {
        "id": "tHEqN720R_hE"
      }
    },
    {
      "cell_type": "markdown",
      "source": [
        "<br>"
      ],
      "metadata": {
        "id": "rlLC4Ds-Trm-"
      }
    },
    {
      "cell_type": "markdown",
      "source": [
        "# Stressed VaR"
      ],
      "metadata": {
        "id": "F98XzVpJ6Uqq"
      }
    },
    {
      "cell_type": "markdown",
      "source": [
        "Stressed VaR is a risk measure that estimates potential losses in a portfolio during periods of extreme market stress, based on historical or hypothetical crisis scenarios.\n",
        "It is used to evaluate how a portfolio would perform under abnormal market conditions, such as financial crises."
      ],
      "metadata": {
        "id": "gDPCu3GQE0dX"
      }
    },
    {
      "cell_type": "markdown",
      "source": [
        "In our analysis, we selected the period from **September 2008 to September 2009**, as it corresponds to the **global financial crisis**, during which **returns were among the lowest observed**, making it an ideal candidate for **Stressed VaR estimation**.\n"
      ],
      "metadata": {
        "id": "HuRTOCXFFC38"
      }
    },
    {
      "cell_type": "code",
      "source": [
        "# Download historical data for the crisis period (2008-2009)\n",
        "MSF_crisis = yf.download(\"MSFT\", start=\"2008-09-01\", end=\"2009-09-01\")\n",
        "CNR_crisis = yf.download(\"CNR.TO\", start=\"2008-09-01\", end=\"2009-09-01\")\n",
        "\n",
        "# Compute daily log returns for both assets\n",
        "MSF_crisis['Log_Return_MSF'] = np.log(MSF_crisis['Close'] / MSF_crisis['Close'].shift(1))\n",
        "CNR_crisis['Log_Return_CNR'] = np.log(CNR_crisis['Close'] / CNR_crisis['Close'].shift(1))\n",
        "\n",
        "# Merge the two log return series into one DataFrame\n",
        "returns_crisis = pd.DataFrame({\n",
        "    'Log_Return_MSF': MSF_crisis['Log_Return_MSF'],\n",
        "    'Log_Return_CNR': CNR_crisis['Log_Return_CNR']\n",
        "}).dropna()\n",
        "\n",
        "\n",
        "# Compute portfolio returns using fixed weights\n",
        "returns_crisis['Portfolio_Return'] = returns_crisis['Log_Return_MSF'] * w_msf + returns_crisis['Log_Return_CNR'] * w_cnr"
      ],
      "metadata": {
        "colab": {
          "base_uri": "https://localhost:8080/"
        },
        "id": "Rhx4EYpnBTcB",
        "outputId": "7f34f39a-a432-4851-91d7-e631ecc905ae"
      },
      "execution_count": null,
      "outputs": [
        {
          "output_type": "stream",
          "name": "stderr",
          "text": [
            "[*********************100%***********************]  1 of 1 completed\n",
            "[*********************100%***********************]  1 of 1 completed\n"
          ]
        }
      ]
    },
    {
      "cell_type": "markdown",
      "source": [
        "**Stressed VaR during the 2008 Financial Crisis**"
      ],
      "metadata": {
        "id": "b7QSRenNMLbC"
      }
    },
    {
      "cell_type": "code",
      "source": [
        "var_stressed_pct, var_stressed_eur = calculate_historical_var(\n",
        "    returns_crisis['Portfolio_Return'],\n",
        "    confidence_level=0.99,\n",
        "    portfolio_value=10000\n",
        ")"
      ],
      "metadata": {
        "colab": {
          "base_uri": "https://localhost:8080/",
          "height": 559
        },
        "id": "uOwQ0s23L6bp",
        "outputId": "ed3c3081-17e1-4cda-cdf5-54960caec693"
      },
      "execution_count": null,
      "outputs": [
        {
          "output_type": "stream",
          "name": "stdout",
          "text": [
            "Confidence Level: 99%\n",
            "Portfolio Value: €10,000.00\n",
            "VaR (Historical): -8.29% → €-828.52\n"
          ]
        },
        {
          "output_type": "display_data",
          "data": {
            "text/plain": [
              "<Figure size 1000x500 with 1 Axes>"
            ],
            "image/png": "[encoded data removed]"
          },
          "metadata": {}
        }
      ]
    },
    {
      "cell_type": "code",
      "source": [
        "import pandas as pd\n",
        "\n",
        "# Comparaison des deux VaR historiques\n",
        "historical_var_comparison = pd.DataFrame({\n",
        "    \"Scenario\": [\"Normal Period\", \"Crisis Period\"],\n",
        "    \"VaR %\": [f\"{var_hist_pct:.2%}\", f\"{var_stressed_pct:.2%}\"],\n",
        "    \"VaR €\": [f\"€{var_hist_eur:,.2f}\", f\"€{var_stressed_eur:,.2f}\"]\n",
        "})\n",
        "\n",
        "# Affichage du tableau\n",
        "print(\"=== Historical VaR Comparison ===\")\n",
        "display(historical_var_comparison)\n"
      ],
      "metadata": {
        "colab": {
          "base_uri": "https://localhost:8080/",
          "height": 142
        },
        "id": "O7tiHxSzC1yD",
        "outputId": "8c0282f8-bf12-48e7-fa85-10db4ff7abaa"
      },
      "execution_count": null,
      "outputs": [
        {
          "output_type": "stream",
          "name": "stdout",
          "text": [
            "=== Historical VaR Comparison ===\n"
          ]
        },
        {
          "output_type": "display_data",
          "data": {
            "text/plain": [
              "        Scenario  VaR %    VaR €\n",
              "0  Normal Period  3.58%  €358.04\n",
              "1  Crisis Period  8.29%  €828.52"
            ],
            "text/html": [
              "\n",
              "  <div id=\"df-122a1e98-8bc2-4356-a940-7eeee49ac16d\" class=\"colab-df-container\">\n",
              "    <div>\n",
              "<style scoped>\n",
              "    .dataframe tbody tr th:only-of-type {\n",
              "        vertical-align: middle;\n",
              "    }\n",
              "\n",
              "    .dataframe tbody tr th {\n",
              "        vertical-align: top;\n",
              "    }\n",
              "\n",
              "    .dataframe thead th {\n",
              "        text-align: right;\n",
              "    }\n",
              "</style>\n",
              "<table border=\"1\" class=\"dataframe\">\n",
              "  <thead>\n",
              "    <tr style=\"text-align: right;\">\n",
              "      <th></th>\n",
              "      <th>Scenario</th>\n",
              "      <th>VaR %</th>\n",
              "      <th>VaR €</th>\n",
              "    </tr>\n",
              "  </thead>\n",
              "  <tbody>\n",
              "    <tr>\n",
              "      <th>0</th>\n",
              "      <td>Normal Period</td>\n",
              "      <td>3.58%</td>\n",
              "      <td>€358.04</td>\n",
              "    </tr>\n",
              "    <tr>\n",
              "      <th>1</th>\n",
              "      <td>Crisis Period</td>\n",
              "      <td>8.29%</td>\n",
              "      <td>€828.52</td>\n",
              "    </tr>\n",
              "  </tbody>\n",
              "</table>\n",
              "</div>\n",
              "    <div class=\"colab-df-buttons\">\n",
              "\n",
              "  <div class=\"colab-df-container\">\n",
              "    <button class=\"colab-df-convert\" onclick=\"convertToInteractive('df-122a1e98-8bc2-4356-a940-7eeee49ac16d')\"\n",
              "            title=\"Convert this dataframe to an interactive table.\"\n",
              "            style=\"display:none;\">\n",
              "\n",
              "  <svg xmlns=\"http://www.w3.org/2000/svg\" height=\"24px\" viewBox=\"0 -960 960 960\">\n",
              "    <path d=\"M120-120v-720h720v720H120Zm60-500h600v-160H180v160Zm220 220h160v-160H400v160Zm0 220h160v-160H400v160ZM180-400h160v-160H180v160Zm440 0h160v-160H620v160ZM180-180h160v-160H180v160Zm440 0h160v-160H620v160Z\"/>\n",
              "  </svg>\n",
              "    </button>\n",
              "\n",
              "  <style>\n",
              "    .colab-df-container {\n",
              "      display:flex;\n",
              "      gap: 12px;\n",
              "    }\n",
              "\n",
              "    .colab-df-convert {\n",
              "      background-color: #E8F0FE;\n",
              "      border: none;\n",
              "      border-radius: 50%;\n",
              "      cursor: pointer;\n",
              "      display: none;\n",
              "      fill: #1967D2;\n",
              "      height: 32px;\n",
              "      padding: 0 0 0 0;\n",
              "      width: 32px;\n",
              "    }\n",
              "\n",
              "    .colab-df-convert:hover {\n",
              "      background-color: #E2EBFA;\n",
              "      box-shadow: 0px 1px 2px rgba(60, 64, 67, 0.3), 0px 1px 3px 1px rgba(60, 64, 67, 0.15);\n",
              "      fill: #174EA6;\n",
              "    }\n",
              "\n",
              "    .colab-df-buttons div {\n",
              "      margin-bottom: 4px;\n",
              "    }\n",
              "\n",
              "    [theme=dark] .colab-df-convert {\n",
              "      background-color: #3B4455;\n",
              "      fill: #D2E3FC;\n",
              "    }\n",
              "\n",
              "    [theme=dark] .colab-df-convert:hover {\n",
              "      background-color: #434B5C;\n",
              "      box-shadow: 0px 1px 3px 1px rgba(0, 0, 0, 0.15);\n",
              "      filter: drop-shadow(0px 1px 2px rgba(0, 0, 0, 0.3));\n",
              "      fill: #FFFFFF;\n",
              "    }\n",
              "  </style>\n",
              "\n",
              "    <script>\n",
              "      const buttonEl =\n",
              "        document.querySelector('#df-122a1e98-8bc2-4356-a940-7eeee49ac16d button.colab-df-convert');\n",
              "      buttonEl.style.display =\n",
              "        google.colab.kernel.accessAllowed ? 'block' : 'none';\n",
              "\n",
              "      async function convertToInteractive(key) {\n",
              "        const element = document.querySelector('#df-122a1e98-8bc2-4356-a940-7eeee49ac16d');\n",
              "        const dataTable =\n",
              "          await google.colab.kernel.invokeFunction('convertToInteractive',\n",
              "                                                    [key], {});\n",
              "        if (!dataTable) return;\n",
              "\n",
              "        const docLinkHtml = 'Like what you see? Visit the ' +\n",
              "          '<a target=\"_blank\" href=https://colab.research.google.com/notebooks/data_table.ipynb>data table notebook</a>'\n",
              "          + ' to learn more about interactive tables.';\n",
              "        element.innerHTML = '';\n",
              "        dataTable['output_type'] = 'display_data';\n",
              "        await google.colab.output.renderOutput(dataTable, element);\n",
              "        const docLink = document.createElement('div');\n",
              "        docLink.innerHTML = docLinkHtml;\n",
              "        element.appendChild(docLink);\n",
              "      }\n",
              "    </script>\n",
              "  </div>\n",
              "\n",
              "\n",
              "<div id=\"df-8fa6b009-ca26-477e-9452-da68e91a16bb\">\n",
              "  <button class=\"colab-df-quickchart\" onclick=\"quickchart('df-8fa6b009-ca26-477e-9452-da68e91a16bb')\"\n",
              "            title=\"Suggest charts\"\n",
              "            style=\"display:none;\">\n",
              "\n",
              "<svg xmlns=\"http://www.w3.org/2000/svg\" height=\"24px\"viewBox=\"0 0 24 24\"\n",
              "     width=\"24px\">\n",
              "    <g>\n",
              "        <path d=\"M19 3H5c-1.1 0-2 .9-2 2v14c0 1.1.9 2 2 2h14c1.1 0 2-.9 2-2V5c0-1.1-.9-2-2-2zM9 17H7v-7h2v7zm4 0h-2V7h2v10zm4 0h-2v-4h2v4z\"/>\n",
              "    </g>\n",
              "</svg>\n",
              "  </button>\n",
              "\n",
              "<style>\n",
              "  .colab-df-quickchart {\n",
              "      --bg-color: #E8F0FE;\n",
              "      --fill-color: #1967D2;\n",
              "      --hover-bg-color: #E2EBFA;\n",
              "      --hover-fill-color: #174EA6;\n",
              "      --disabled-fill-color: #AAA;\n",
              "      --disabled-bg-color: #DDD;\n",
              "  }\n",
              "\n",
              "  [theme=dark] .colab-df-quickchart {\n",
              "      --bg-color: #3B4455;\n",
              "      --fill-color: #D2E3FC;\n",
              "      --hover-bg-color: #434B5C;\n",
              "      --hover-fill-color: #FFFFFF;\n",
              "      --disabled-bg-color: #3B4455;\n",
              "      --disabled-fill-color: #666;\n",
              "  }\n",
              "\n",
              "  .colab-df-quickchart {\n",
              "    background-color: var(--bg-color);\n",
              "    border: none;\n",
              "    border-radius: 50%;\n",
              "    cursor: pointer;\n",
              "    display: none;\n",
              "    fill: var(--fill-color);\n",
              "    height: 32px;\n",
              "    padding: 0;\n",
              "    width: 32px;\n",
              "  }\n",
              "\n",
              "  .colab-df-quickchart:hover {\n",
              "    background-color: var(--hover-bg-color);\n",
              "    box-shadow: 0 1px 2px rgba(60, 64, 67, 0.3), 0 1px 3px 1px rgba(60, 64, 67, 0.15);\n",
              "    fill: var(--button-hover-fill-color);\n",
              "  }\n",
              "\n",
              "  .colab-df-quickchart-complete:disabled,\n",
              "  .colab-df-quickchart-complete:disabled:hover {\n",
              "    background-color: var(--disabled-bg-color);\n",
              "    fill: var(--disabled-fill-color);\n",
              "    box-shadow: none;\n",
              "  }\n",
              "\n",
              "  .colab-df-spinner {\n",
              "    border: 2px solid var(--fill-color);\n",
              "    border-color: transparent;\n",
              "    border-bottom-color: var(--fill-color);\n",
              "    animation:\n",
              "      spin 1s steps(1) infinite;\n",
              "  }\n",
              "\n",
              "  @keyframes spin {\n",
              "    0% {\n",
              "      border-color: transparent;\n",
              "      border-bottom-color: var(--fill-color);\n",
              "      border-left-color: var(--fill-color);\n",
              "    }\n",
              "    20% {\n",
              "      border-color: transparent;\n",
              "      border-left-color: var(--fill-color);\n",
              "      border-top-color: var(--fill-color);\n",
              "    }\n",
              "    30% {\n",
              "      border-color: transparent;\n",
              "      border-left-color: var(--fill-color);\n",
              "      border-top-color: var(--fill-color);\n",
              "      border-right-color: var(--fill-color);\n",
              "    }\n",
              "    40% {\n",
              "      border-color: transparent;\n",
              "      border-right-color: var(--fill-color);\n",
              "      border-top-color: var(--fill-color);\n",
              "    }\n",
              "    60% {\n",
              "      border-color: transparent;\n",
              "      border-right-color: var(--fill-color);\n",
              "    }\n",
              "    80% {\n",
              "      border-color: transparent;\n",
              "      border-right-color: var(--fill-color);\n",
              "      border-bottom-color: var(--fill-color);\n",
              "    }\n",
              "    90% {\n",
              "      border-color: transparent;\n",
              "      border-bottom-color: var(--fill-color);\n",
              "    }\n",
              "  }\n",
              "</style>\n",
              "\n",
              "  <script>\n",
              "    async function quickchart(key) {\n",
              "      const quickchartButtonEl =\n",
              "        document.querySelector('#' + key + ' button');\n",
              "      quickchartButtonEl.disabled = true;  // To prevent multiple clicks.\n",
              "      quickchartButtonEl.classList.add('colab-df-spinner');\n",
              "      try {\n",
              "        const charts = await google.colab.kernel.invokeFunction(\n",
              "            'suggestCharts', [key], {});\n",
              "      } catch (error) {\n",
              "        console.error('Error during call to suggestCharts:', error);\n",
              "      }\n",
              "      quickchartButtonEl.classList.remove('colab-df-spinner');\n",
              "      quickchartButtonEl.classList.add('colab-df-quickchart-complete');\n",
              "    }\n",
              "    (() => {\n",
              "      let quickchartButtonEl =\n",
              "        document.querySelector('#df-8fa6b009-ca26-477e-9452-da68e91a16bb button');\n",
              "      quickchartButtonEl.style.display =\n",
              "        google.colab.kernel.accessAllowed ? 'block' : 'none';\n",
              "    })();\n",
              "  </script>\n",
              "</div>\n",
              "\n",
              "  <div id=\"id_74c131f8-4fe7-4b60-a872-dbf88dcbbb94\">\n",
              "    <style>\n",
              "      .colab-df-generate {\n",
              "        background-color: #E8F0FE;\n",
              "        border: none;\n",
              "        border-radius: 50%;\n",
              "        cursor: pointer;\n",
              "        display: none;\n",
              "        fill: #1967D2;\n",
              "        height: 32px;\n",
              "        padding: 0 0 0 0;\n",
              "        width: 32px;\n",
              "      }\n",
              "\n",
              "      .colab-df-generate:hover {\n",
              "        background-color: #E2EBFA;\n",
              "        box-shadow: 0px 1px 2px rgba(60, 64, 67, 0.3), 0px 1px 3px 1px rgba(60, 64, 67, 0.15);\n",
              "        fill: #174EA6;\n",
              "      }\n",
              "\n",
              "      [theme=dark] .colab-df-generate {\n",
              "        background-color: #3B4455;\n",
              "        fill: #D2E3FC;\n",
              "      }\n",
              "\n",
              "      [theme=dark] .colab-df-generate:hover {\n",
              "        background-color: #434B5C;\n",
              "        box-shadow: 0px 1px 3px 1px rgba(0, 0, 0, 0.15);\n",
              "        filter: drop-shadow(0px 1px 2px rgba(0, 0, 0, 0.3));\n",
              "        fill: #FFFFFF;\n",
              "      }\n",
              "    </style>\n",
              "    <button class=\"colab-df-generate\" onclick=\"generateWithVariable('historical_var_comparison')\"\n",
              "            title=\"Generate code using this dataframe.\"\n",
              "            style=\"display:none;\">\n",
              "\n",
              "  <svg xmlns=\"http://www.w3.org/2000/svg\" height=\"24px\"viewBox=\"0 0 24 24\"\n",
              "       width=\"24px\">\n",
              "    <path d=\"M7,19H8.4L18.45,9,17,7.55,7,17.6ZM5,21V16.75L18.45,3.32a2,2,0,0,1,2.83,0l1.4,1.43a1.91,1.91,0,0,1,.58,1.4,1.91,1.91,0,0,1-.58,1.4L9.25,21ZM18.45,9,17,7.55Zm-12,3A5.31,5.31,0,0,0,4.9,8.1,5.31,5.31,0,0,0,1,6.5,5.31,5.31,0,0,0,4.9,4.9,5.31,5.31,0,0,0,6.5,1,5.31,5.31,0,0,0,8.1,4.9,5.31,5.31,0,0,0,12,6.5,5.46,5.46,0,0,0,6.5,12Z\"/>\n",
              "  </svg>\n",
              "    </button>\n",
              "    <script>\n",
              "      (() => {\n",
              "      const buttonEl =\n",
              "        document.querySelector('#id_74c131f8-4fe7-4b60-a872-dbf88dcbbb94 button.colab-df-generate');\n",
              "      buttonEl.style.display =\n",
              "        google.colab.kernel.accessAllowed ? 'block' : 'none';\n",
              "\n",
              "      buttonEl.onclick = () => {\n",
              "        google.colab.notebook.generateWithVariable('historical_var_comparison');\n",
              "      }\n",
              "      })();\n",
              "    </script>\n",
              "  </div>\n",
              "\n",
              "    </div>\n",
              "  </div>\n"
            ],
            "application/vnd.google.colaboratory.intrinsic+json": {
              "type": "dataframe",
              "variable_name": "historical_var_comparison",
              "summary": "{\n  \"name\": \"historical_var_comparison\",\n  \"rows\": 2,\n  \"fields\": [\n    {\n      \"column\": \"Scenario\",\n      \"properties\": {\n        \"dtype\": \"string\",\n        \"num_unique_values\": 2,\n        \"samples\": [\n          \"Crisis Period\",\n          \"Normal Period\"\n        ],\n        \"semantic_type\": \"\",\n        \"description\": \"\"\n      }\n    },\n    {\n      \"column\": \"VaR %\",\n      \"properties\": {\n        \"dtype\": \"string\",\n        \"num_unique_values\": 2,\n        \"samples\": [\n          \"8.29%\",\n          \"3.58%\"\n        ],\n        \"semantic_type\": \"\",\n        \"description\": \"\"\n      }\n    },\n    {\n      \"column\": \"VaR \\u20ac\",\n      \"properties\": {\n        \"dtype\": \"string\",\n        \"num_unique_values\": 2,\n        \"samples\": [\n          \"\\u20ac828.52\",\n          \"\\u20ac358.04\"\n        ],\n        \"semantic_type\": \"\",\n        \"description\": \"\"\n      }\n    }\n  ]\n}"
            }
          },
          "metadata": {}
        }
      ]
    },
    {
      "cell_type": "markdown",
      "source": [
        "**VaR Comparison: Normal vs. Crisis Period**"
      ],
      "metadata": {
        "id": "4utUzwQJMSdv"
      }
    },
    {
      "cell_type": "markdown",
      "source": [
        "The **stressed VaR** reaches **€828.52**, compared to **€358.04** in normal market conditions — **more than twice the normal VaR**.  \n",
        "This sharp increase highlights the **amplification of downside risk** and the **elevated exposure to extreme losses** during **financial crises**.  \n",
        "It clearly underscores the need for **stress testing** as a critical component of **robust portfolio risk management**, ensuring that investors are not blindsided by severe"
      ],
      "metadata": {
        "id": "T2iY7S_gM4xl"
      }
    },
    {
      "cell_type": "markdown",
      "source": [
        "<br>"
      ],
      "metadata": {
        "id": "TltxXmaRUFzi"
      }
    },
    {
      "cell_type": "markdown",
      "source": [
        "# Options - VaR (Project 1)"
      ],
      "metadata": {
        "id": "OYytj-9y6e_n"
      }
    },
    {
      "cell_type": "markdown",
      "source": [
        "The Monte Carlo method estimates the Value at Risk (VaR) of an option by simulating future stock prices and applying a Taylor series expansion (Delta-Gamma approximation) to estimate the option's profit and loss (PnL).  \n",
        "The 1% VaR is then the first percentile of the simulated PnLs.\n",
        "\n",
        "$$\n",
        "\\Delta V_t = \\Delta \\cdot \\Delta S_t + \\frac{1}{2} \\Gamma \\cdot (\\Delta S_t)^2 + \\nu \\cdot \\Delta \\sigma_t\n",
        "$$\n",
        "\n",
        "Where:  \n",
        "- $\\Delta V_t$ = change in the option’s value (i.e., the PnL)  \n",
        "- $\\Delta S_t$ = change in the underlying stock price  \n",
        "- $\\Delta$, $\\Gamma$, $\\nu$ = Delta, Gamma, and Vega of the option  \n",
        "- $\\Delta \\sigma_t$ = change in implied volatility  "
      ],
      "metadata": {
        "id": "0TX7c0tzu52j"
      }
    },
    {
      "cell_type": "markdown",
      "source": [
        "**Calculating Option VaR**"
      ],
      "metadata": {
        "id": "r3FyY0-eu7bx"
      }
    },
    {
      "cell_type": "markdown",
      "source": [
        "For the computation of the Value at Risk (VaR) of the option, we reuse the parameters and results from **Project 1**, which focused on a European call option on **Puig** stock.  \n"
      ],
      "metadata": {
        "id": "HMA6kolvvJAb"
      }
    },
    {
      "cell_type": "code",
      "source": [
        "import numpy as np\n",
        "\n",
        "def monte_carlo_call_option(S, K, r, sigma, T, num_simulations=11000, num_steps=63, seed=None):\n",
        "    \"\"\"\n",
        "    Monte Carlo simulation for European call option pricing using GBM under risk-neutral framework.\n",
        "    \"\"\"\n",
        "    if seed is not None:\n",
        "        np.random.seed(seed)\n",
        "\n",
        "    dt = T / num_steps\n",
        "    final_prices = np.zeros(num_simulations)\n",
        "\n",
        "    for i in range(num_simulations):\n",
        "        Z = np.random.normal(0, 1, num_steps)\n",
        "        S_curr = S\n",
        "        for t in range(num_steps):\n",
        "            S_curr *= np.exp((r - 0.5 * sigma**2) * dt + sigma * np.sqrt(dt) * Z[t])\n",
        "        final_prices[i] = S_curr\n",
        "\n",
        "    return final_prices\n",
        "\n",
        "\n",
        "# === Project 1 - Option on Puig Stock ===\n",
        "S = 17.59  # Current stock price of Puig\n",
        "K = 18.14  # Strike price of the option\n",
        "r = 0.0248  # Risk-free rate (2.48%)\n",
        "sigma = 0.3626  # Implied volatility of the call option (36.26%)\n",
        "T = 0.25  # Time to maturity (1/4 year)\n",
        "\n",
        "# Given initial call option price (no need to recalculate)\n",
        "initial_call_price = 0.829230464724616  # Provided initial call price\n",
        "# Round the initial call price to 2 decimal places\n",
        "initial_call_price_rounded = round(initial_call_price, 2)\n",
        "\n",
        "# Simulate stock prices using Monte Carlo\n",
        "num_simulations = 11000\n",
        "simulated_prices = monte_carlo_call_option(S, K, r, sigma, T, num_simulations=num_simulations, seed=42)\n",
        "\n",
        "# Greeks specific to Project 1 (Option on Puig stock)\n",
        "delta = 0.461438  # Estimated Delta of the option\n",
        "gamma = 0.154892  # Estimated Gamma of the option\n",
        "\n",
        "# Step 3: Apply Taylor series approximation to estimate the option price change (PnL)\n",
        "delta_S = simulated_prices - S  # Change in stock prices\n",
        "change_in_option_price = delta * delta_S + 0.5 * gamma * delta_S**2  # Apply Taylor series\n",
        "\n",
        "# Step 4: Calculate the PnL (profits and losses) for the option relative to the initial call price\n",
        "losses_or_gains = change_in_option_price\n",
        "\n",
        "# Step 5: Estimate VaR at 1% (1st percentile of the simulated PnL values)\n",
        "VaR_1_percent = np.percentile(losses_or_gains, 1)\n",
        "\n",
        "# Display results\n",
        "print(f\"Given Call Option Price: €{initial_call_price_rounded}\")\n",
        "print(f\"Estimated PnL for each simulation: {losses_or_gains[:10]}\")  # Display first 10 PnL values\n",
        "print(f\"Estimated VaR at 1% for the Option on Puig stock: €{VaR_1_percent}\")"
      ],
      "metadata": {
        "colab": {
          "base_uri": "https://localhost:8080/"
        },
        "id": "19zqhXp5qWoR",
        "outputId": "9b0b5295-6fb5-432e-a19e-0abbf82d1c80"
      },
      "execution_count": null,
      "outputs": [
        {
          "output_type": "stream",
          "name": "stdout",
          "text": [
            "Given Call Option Price: €0.83\n",
            "Estimated PnL for each simulation: [-0.59634075  0.92124369  0.34264077  0.80123144  0.91986236  1.14608305\n",
            "  0.67928865 -0.66608237 -0.47564687  3.04576034]\n",
            "Estimated VaR at 1% for the Option on Puig stock: €-0.6871639975720282\n"
          ]
        }
      ]
    },
    {
      "cell_type": "code",
      "source": [
        "# === Input values ===\n",
        "initial_call_price = 0.829230464724616  # Initial market price of the option\n",
        "VaR_1_percent = VaR_1_percent     # Estimated 1% Value at Risk from Monte Carlo simulation\n",
        "\n",
        "# === Calculate percentage drop relative to initial option price ===\n",
        "var_pct = abs(VaR_1_percent) / initial_call_price * 100\n",
        "\n",
        "# === Output interpretation ===\n",
        "print(f\"The maximum expected loss in the worst 1% of scenarios is €{abs(VaR_1_percent):.2f} per option,\")\n",
        "print(f\"which represents a drop of approximately {var_pct:.1f}% from the initial option price of €{initial_call_price:.2f}.\")\n"
      ],
      "metadata": {
        "colab": {
          "base_uri": "https://localhost:8080/"
        },
        "id": "6A9ZwIoFuBuo",
        "outputId": "5093bb83-315a-44c0-f0ca-cd6df18d5c8d"
      },
      "execution_count": null,
      "outputs": [
        {
          "output_type": "stream",
          "name": "stdout",
          "text": [
            "The maximum expected loss in the worst 1% of scenarios is €0.69 per option,\n",
            "which represents a drop of approximately 82.9% from the initial option price of €0.83.\n"
          ]
        }
      ]
    },
    {
      "cell_type": "markdown",
      "source": [
        "<br>"
      ],
      "metadata": {
        "id": "1iH5NHRqvW7I"
      }
    },
    {
      "cell_type": "markdown",
      "source": [
        "# Expected Shortfall"
      ],
      "metadata": {
        "id": "0YgJyEMU6f3k"
      }
    },
    {
      "cell_type": "markdown",
      "source": [
        "**CVaR** (or **Expected Shortfall**) measures the **average loss** in the worst-case scenarios — that is, beyond the Value at Risk (VaR) threshold.\n",
        "\n",
        "- While **VaR** indicates the **minimum loss** at a given confidence level,  \n",
        "- **CVaR** provides the **expected average loss** once the VaR is breached.\n",
        "\n",
        "This makes CVaR a more robust measure of **tail risk**, especially relevant during **financial stress**.\n",
        "\n",
        "---\n",
        "\n",
        "###General formula:\n",
        "\n",
        "$$\n",
        "\\text{CVaR}_\\alpha = \\frac{1}{\\alpha} \\int_{\\text{VaR}}^{-\\infty} x \\cdot f(x) \\, dx\n",
        "$$\n",
        "\n",
        "Where:\n",
        "- $\\alpha$ = confidence level (e.g., 99%)\n",
        "- $f(x)$ = probability density function of returns\n",
        "- VaR = threshold loss value at level $\\alpha$\n",
        "\n",
        "---\n",
        "\n",
        "### Parametric CVaR (Normal Distribution)\n",
        "\n",
        "Under the assumption of normally distributed returns:\n",
        "\n",
        "$$\n",
        "\\text{CVaR}_{\\text{param}} = \\mu + \\sigma \\cdot \\frac{e^{-z^2 / 2}}{\\alpha \\sqrt{2\\pi}}\n",
        "$$\n",
        "\n",
        "- $\\mu$ = mean return (often assumed to be 0)  \n",
        "- $\\sigma$ = standard deviation (volatility)  \n",
        "- $z$ = quantile of the standard normal distribution (e.g., ≈ 2.33 for 99%)  \n",
        "- $\\alpha$ = confidence level\n",
        "\n",
        "---\n",
        "\n",
        "### Historical CVaR (Non-parametric)\n",
        "\n",
        "This version uses empirical return data (non-parametric):\n",
        "\n",
        "$$\n",
        "\\text{CVaR}_{\\text{historical}} = \\frac{1}{\\alpha} \\sum_{x \\leq \\text{VaR}} x\n",
        "$$\n",
        "\n",
        "It corresponds to the **average of all losses** beyond the historical VaR threshold, and captures **real tail behavior** without distributional assumptions.\n",
        "\n"
      ],
      "metadata": {
        "id": "XkZYjtNOUfwh"
      }
    },
    {
      "cell_type": "markdown",
      "source": [
        "<br>"
      ],
      "metadata": {
        "id": "NDC7CD1UVzwT"
      }
    },
    {
      "cell_type": "markdown",
      "source": [
        "**Calcul of the Parametric and No Parametric CVaR**"
      ],
      "metadata": {
        "id": "U1G6jVbMVvNw"
      }
    },
    {
      "cell_type": "code",
      "source": [
        "from scipy.stats import norm\n",
        "import numpy as np\n",
        "\n",
        "def calculate_parametric_cvar(returns, confidence_level=0.99, portfolio_value=10000):\n",
        "    \"\"\"\n",
        "    CVaR estimation using the Delta-Normal (parametric) method.\n",
        "    σ is estimated from the returns.\n",
        "    \"\"\"\n",
        "    alpha = 1 - confidence_level\n",
        "    sigma = returns.std()\n",
        "    mu = 0  # Common assumption for short-term horizon\n",
        "    z = norm.ppf(alpha)\n",
        "\n",
        "    # Parametric CVaR formula (Delta-Normal)\n",
        "    cvar = mu + sigma * (np.exp(-z**2 / 2) / (alpha * np.sqrt(2 * np.pi)))\n",
        "\n",
        "    cvar_percent = -cvar * 100\n",
        "    cvar_euro = -cvar * portfolio_value\n",
        "\n",
        "    print(f\"Parametric CVaR ({int(confidence_level*100)}%): {cvar_percent:.2f}% → €{cvar_euro:.2f}\")\n",
        "    return cvar, cvar_euro\n",
        "\n",
        "\n",
        "def calculate_historical_cvar(returns, confidence_level=0.99, portfolio_value=10000):\n",
        "    \"\"\"\n",
        "    CVaR estimation using Historical Simulation (non-parametric).\n",
        "    \"\"\"\n",
        "    alpha = 1 - confidence_level\n",
        "    returns_sorted = np.sort(returns)\n",
        "    index_var = int(len(returns_sorted) * alpha)\n",
        "\n",
        "    # Take the worst losses (below the VaR)\n",
        "    worst_losses = returns_sorted[:index_var]\n",
        "    cvar = np.mean(worst_losses)\n",
        "\n",
        "    cvar_percent = cvar * 100\n",
        "    cvar_euro = cvar * portfolio_value\n",
        "\n",
        "    print(f\"Historical CVaR ({int(confidence_level*100)}%): {cvar_percent:.2f}% → €{cvar_euro:.2f}\")\n",
        "    return cvar, cvar_euro"
      ],
      "metadata": {
        "id": "kWZufObUedBl"
      },
      "execution_count": null,
      "outputs": []
    },
    {
      "cell_type": "code",
      "source": [
        "# CVaR 1%\n",
        "calculate_parametric_cvar(returns_df['Portfolio_Return'], confidence_level=0.99, portfolio_value=10000)\n",
        "calculate_historical_cvar(returns_df['Portfolio_Return'], confidence_level=0.99, portfolio_value=10000)"
      ],
      "metadata": {
        "colab": {
          "base_uri": "https://localhost:8080/"
        },
        "id": "Pi-DudIHefdY",
        "outputId": "a0149b55-9a4e-46d2-8d13-7f4fa202ca30"
      },
      "execution_count": null,
      "outputs": [
        {
          "output_type": "stream",
          "name": "stdout",
          "text": [
            "Parametric CVaR (99%): -4.01% → €-401.12\n",
            "Historical CVaR (99%): -4.03% → €-402.87\n"
          ]
        },
        {
          "output_type": "execute_result",
          "data": {
            "text/plain": [
              "(np.float64(-0.0402870755370712), np.float64(-402.870755370712))"
            ]
          },
          "metadata": {},
          "execution_count": 31
        }
      ]
    },
    {
      "cell_type": "markdown",
      "source": [
        "**Comparaison and interpretation CVaR 99%**\n",
        "\n",
        "- The **Parametric CVaR** is **€401.12** and the **Historical CVaR** is **€402.87**.  \n",
        "  Both values are larger than the VaR (99%), as CVaR measures the **average loss beyond the VaR threshold**, reflecting **tail risk**."
      ],
      "metadata": {
        "id": "9zKK89cwfQBz"
      }
    },
    {
      "cell_type": "markdown",
      "source": [
        "<br>"
      ],
      "metadata": {
        "id": "-gL8UcSQV3OF"
      }
    },
    {
      "cell_type": "markdown",
      "source": [
        "# **Exigence of Capitals**"
      ],
      "metadata": {
        "id": "LpY5VTs0ePii"
      }
    },
    {
      "cell_type": "markdown",
      "source": [
        "Before, under the **Basel II/III** accords, the **capital requirement** was calculated using the **99% VaR** over a **10-day horizon**, multiplied by a factor of **3**. Since the **FRTB (Fundamental Review of the Trading Book)**, the method has evolved, and now the **97.5% CVaR** is used to calculate the **capital requirement**, accounting for the average losses in the worst-case scenarios."
      ],
      "metadata": {
        "id": "mR80ZUhKkvl4"
      }
    },
    {
      "cell_type": "code",
      "source": [
        "calculate_historical_cvar(returns_df['Portfolio_Return'], confidence_level=0.975, portfolio_value=10000)"
      ],
      "metadata": {
        "colab": {
          "base_uri": "https://localhost:8080/"
        },
        "id": "Tmngrxw3fHWJ",
        "outputId": "d44e8d9d-2172-452f-dbc5-329e10e84175"
      },
      "execution_count": null,
      "outputs": [
        {
          "output_type": "stream",
          "name": "stdout",
          "text": [
            "Historical CVaR (97%): -3.50% → €-350.16\n"
          ]
        },
        {
          "output_type": "execute_result",
          "data": {
            "text/plain": [
              "(np.float64(-0.03501626877347317), np.float64(-350.1626877347317))"
            ]
          },
          "metadata": {},
          "execution_count": 32
        }
      ]
    },
    {
      "cell_type": "code",
      "source": [
        "# CVaR 2,5%\n",
        "cvar_hist_pct, cvar_hist_eur = calculate_historical_cvar(\n",
        "    returns_df['Portfolio_Return'], confidence_level=0.975, portfolio_value=10000\n",
        ")"
      ],
      "metadata": {
        "colab": {
          "base_uri": "https://localhost:8080/"
        },
        "id": "aXBdEtCghacL",
        "outputId": "ff9c61f5-cc77-4cc4-91b1-395f7a70959a"
      },
      "execution_count": null,
      "outputs": [
        {
          "output_type": "stream",
          "name": "stdout",
          "text": [
            "Historical CVaR (97%): -3.50% → €-350.16\n"
          ]
        }
      ]
    },
    {
      "cell_type": "code",
      "source": [
        "# Horizon scaling\n",
        "scaling = np.sqrt(10)\n",
        "\n",
        "# Capital calculations\n",
        "capital_var = var_hist_eur * scaling * 3.0\n",
        "capital_cvar = -cvar_hist_eur * scaling * 3\n",
        "\n",
        "# Create comparison table\n",
        "var_cvar_comparison = pd.DataFrame({\n",
        "    \"Measure\": [\"VaR 99%\", \"CVaR 97.5%\"],\n",
        "    \"Loss (%)\": [f\"{var_hist_pct:.2%}\", f\"{-cvar_hist_pct:.2%}\"],\n",
        "    \"Loss (€)\": [f\"€{var_hist_eur:,.2f}\", f\"€{-cvar_hist_eur:,.2f}\"],\n",
        "    \"Capital Requirement\": [f\"€{capital_var:,.2f}\", f\"€{capital_cvar:,.2f}\"]\n",
        "})\n",
        "\n",
        "# Display\n",
        "display(var_cvar_comparison)"
      ],
      "metadata": {
        "colab": {
          "base_uri": "https://localhost:8080/",
          "height": 125
        },
        "id": "Kp1ZCnSOhev2",
        "outputId": "af8aa6c6-c8c6-40d1-fd0d-cbc5fbc47e43"
      },
      "execution_count": null,
      "outputs": [
        {
          "output_type": "display_data",
          "data": {
            "text/plain": [
              "      Measure Loss (%) Loss (€) Capital Requirement\n",
              "0     VaR 99%    3.58%  €358.04           €3,396.66\n",
              "1  CVaR 97.5%    3.50%  €350.16           €3,321.93"
            ],
            "text/html": [
              "\n",
              "  <div id=\"df-85a95913-9adb-42a1-9799-b36f1c602949\" class=\"colab-df-container\">\n",
              "    <div>\n",
              "<style scoped>\n",
              "    .dataframe tbody tr th:only-of-type {\n",
              "        vertical-align: middle;\n",
              "    }\n",
              "\n",
              "    .dataframe tbody tr th {\n",
              "        vertical-align: top;\n",
              "    }\n",
              "\n",
              "    .dataframe thead th {\n",
              "        text-align: right;\n",
              "    }\n",
              "</style>\n",
              "<table border=\"1\" class=\"dataframe\">\n",
              "  <thead>\n",
              "    <tr style=\"text-align: right;\">\n",
              "      <th></th>\n",
              "      <th>Measure</th>\n",
              "      <th>Loss (%)</th>\n",
              "      <th>Loss (€)</th>\n",
              "      <th>Capital Requirement</th>\n",
              "    </tr>\n",
              "  </thead>\n",
              "  <tbody>\n",
              "    <tr>\n",
              "      <th>0</th>\n",
              "      <td>VaR 99%</td>\n",
              "      <td>3.58%</td>\n",
              "      <td>€358.04</td>\n",
              "      <td>€3,396.66</td>\n",
              "    </tr>\n",
              "    <tr>\n",
              "      <th>1</th>\n",
              "      <td>CVaR 97.5%</td>\n",
              "      <td>3.50%</td>\n",
              "      <td>€350.16</td>\n",
              "      <td>€3,321.93</td>\n",
              "    </tr>\n",
              "  </tbody>\n",
              "</table>\n",
              "</div>\n",
              "    <div class=\"colab-df-buttons\">\n",
              "\n",
              "  <div class=\"colab-df-container\">\n",
              "    <button class=\"colab-df-convert\" onclick=\"convertToInteractive('df-85a95913-9adb-42a1-9799-b36f1c602949')\"\n",
              "            title=\"Convert this dataframe to an interactive table.\"\n",
              "            style=\"display:none;\">\n",
              "\n",
              "  <svg xmlns=\"http://www.w3.org/2000/svg\" height=\"24px\" viewBox=\"0 -960 960 960\">\n",
              "    <path d=\"M120-120v-720h720v720H120Zm60-500h600v-160H180v160Zm220 220h160v-160H400v160Zm0 220h160v-160H400v160ZM180-400h160v-160H180v160Zm440 0h160v-160H620v160ZM180-180h160v-160H180v160Zm440 0h160v-160H620v160Z\"/>\n",
              "  </svg>\n",
              "    </button>\n",
              "\n",
              "  <style>\n",
              "    .colab-df-container {\n",
              "      display:flex;\n",
              "      gap: 12px;\n",
              "    }\n",
              "\n",
              "    .colab-df-convert {\n",
              "      background-color: #E8F0FE;\n",
              "      border: none;\n",
              "      border-radius: 50%;\n",
              "      cursor: pointer;\n",
              "      display: none;\n",
              "      fill: #1967D2;\n",
              "      height: 32px;\n",
              "      padding: 0 0 0 0;\n",
              "      width: 32px;\n",
              "    }\n",
              "\n",
              "    .colab-df-convert:hover {\n",
              "      background-color: #E2EBFA;\n",
              "      box-shadow: 0px 1px 2px rgba(60, 64, 67, 0.3), 0px 1px 3px 1px rgba(60, 64, 67, 0.15);\n",
              "      fill: #174EA6;\n",
              "    }\n",
              "\n",
              "    .colab-df-buttons div {\n",
              "      margin-bottom: 4px;\n",
              "    }\n",
              "\n",
              "    [theme=dark] .colab-df-convert {\n",
              "      background-color: #3B4455;\n",
              "      fill: #D2E3FC;\n",
              "    }\n",
              "\n",
              "    [theme=dark] .colab-df-convert:hover {\n",
              "      background-color: #434B5C;\n",
              "      box-shadow: 0px 1px 3px 1px rgba(0, 0, 0, 0.15);\n",
              "      filter: drop-shadow(0px 1px 2px rgba(0, 0, 0, 0.3));\n",
              "      fill: #FFFFFF;\n",
              "    }\n",
              "  </style>\n",
              "\n",
              "    <script>\n",
              "      const buttonEl =\n",
              "        document.querySelector('#df-85a95913-9adb-42a1-9799-b36f1c602949 button.colab-df-convert');\n",
              "      buttonEl.style.display =\n",
              "        google.colab.kernel.accessAllowed ? 'block' : 'none';\n",
              "\n",
              "      async function convertToInteractive(key) {\n",
              "        const element = document.querySelector('#df-85a95913-9adb-42a1-9799-b36f1c602949');\n",
              "        const dataTable =\n",
              "          await google.colab.kernel.invokeFunction('convertToInteractive',\n",
              "                                                    [key], {});\n",
              "        if (!dataTable) return;\n",
              "\n",
              "        const docLinkHtml = 'Like what you see? Visit the ' +\n",
              "          '<a target=\"_blank\" href=https://colab.research.google.com/notebooks/data_table.ipynb>data table notebook</a>'\n",
              "          + ' to learn more about interactive tables.';\n",
              "        element.innerHTML = '';\n",
              "        dataTable['output_type'] = 'display_data';\n",
              "        await google.colab.output.renderOutput(dataTable, element);\n",
              "        const docLink = document.createElement('div');\n",
              "        docLink.innerHTML = docLinkHtml;\n",
              "        element.appendChild(docLink);\n",
              "      }\n",
              "    </script>\n",
              "  </div>\n",
              "\n",
              "\n",
              "<div id=\"df-93ddeb56-ace7-4374-b5f6-eb460687df95\">\n",
              "  <button class=\"colab-df-quickchart\" onclick=\"quickchart('df-93ddeb56-ace7-4374-b5f6-eb460687df95')\"\n",
              "            title=\"Suggest charts\"\n",
              "            style=\"display:none;\">\n",
              "\n",
              "<svg xmlns=\"http://www.w3.org/2000/svg\" height=\"24px\"viewBox=\"0 0 24 24\"\n",
              "     width=\"24px\">\n",
              "    <g>\n",
              "        <path d=\"M19 3H5c-1.1 0-2 .9-2 2v14c0 1.1.9 2 2 2h14c1.1 0 2-.9 2-2V5c0-1.1-.9-2-2-2zM9 17H7v-7h2v7zm4 0h-2V7h2v10zm4 0h-2v-4h2v4z\"/>\n",
              "    </g>\n",
              "</svg>\n",
              "  </button>\n",
              "\n",
              "<style>\n",
              "  .colab-df-quickchart {\n",
              "      --bg-color: #E8F0FE;\n",
              "      --fill-color: #1967D2;\n",
              "      --hover-bg-color: #E2EBFA;\n",
              "      --hover-fill-color: #174EA6;\n",
              "      --disabled-fill-color: #AAA;\n",
              "      --disabled-bg-color: #DDD;\n",
              "  }\n",
              "\n",
              "  [theme=dark] .colab-df-quickchart {\n",
              "      --bg-color: #3B4455;\n",
              "      --fill-color: #D2E3FC;\n",
              "      --hover-bg-color: #434B5C;\n",
              "      --hover-fill-color: #FFFFFF;\n",
              "      --disabled-bg-color: #3B4455;\n",
              "      --disabled-fill-color: #666;\n",
              "  }\n",
              "\n",
              "  .colab-df-quickchart {\n",
              "    background-color: var(--bg-color);\n",
              "    border: none;\n",
              "    border-radius: 50%;\n",
              "    cursor: pointer;\n",
              "    display: none;\n",
              "    fill: var(--fill-color);\n",
              "    height: 32px;\n",
              "    padding: 0;\n",
              "    width: 32px;\n",
              "  }\n",
              "\n",
              "  .colab-df-quickchart:hover {\n",
              "    background-color: var(--hover-bg-color);\n",
              "    box-shadow: 0 1px 2px rgba(60, 64, 67, 0.3), 0 1px 3px 1px rgba(60, 64, 67, 0.15);\n",
              "    fill: var(--button-hover-fill-color);\n",
              "  }\n",
              "\n",
              "  .colab-df-quickchart-complete:disabled,\n",
              "  .colab-df-quickchart-complete:disabled:hover {\n",
              "    background-color: var(--disabled-bg-color);\n",
              "    fill: var(--disabled-fill-color);\n",
              "    box-shadow: none;\n",
              "  }\n",
              "\n",
              "  .colab-df-spinner {\n",
              "    border: 2px solid var(--fill-color);\n",
              "    border-color: transparent;\n",
              "    border-bottom-color: var(--fill-color);\n",
              "    animation:\n",
              "      spin 1s steps(1) infinite;\n",
              "  }\n",
              "\n",
              "  @keyframes spin {\n",
              "    0% {\n",
              "      border-color: transparent;\n",
              "      border-bottom-color: var(--fill-color);\n",
              "      border-left-color: var(--fill-color);\n",
              "    }\n",
              "    20% {\n",
              "      border-color: transparent;\n",
              "      border-left-color: var(--fill-color);\n",
              "      border-top-color: var(--fill-color);\n",
              "    }\n",
              "    30% {\n",
              "      border-color: transparent;\n",
              "      border-left-color: var(--fill-color);\n",
              "      border-top-color: var(--fill-color);\n",
              "      border-right-color: var(--fill-color);\n",
              "    }\n",
              "    40% {\n",
              "      border-color: transparent;\n",
              "      border-right-color: var(--fill-color);\n",
              "      border-top-color: var(--fill-color);\n",
              "    }\n",
              "    60% {\n",
              "      border-color: transparent;\n",
              "      border-right-color: var(--fill-color);\n",
              "    }\n",
              "    80% {\n",
              "      border-color: transparent;\n",
              "      border-right-color: var(--fill-color);\n",
              "      border-bottom-color: var(--fill-color);\n",
              "    }\n",
              "    90% {\n",
              "      border-color: transparent;\n",
              "      border-bottom-color: var(--fill-color);\n",
              "    }\n",
              "  }\n",
              "</style>\n",
              "\n",
              "  <script>\n",
              "    async function quickchart(key) {\n",
              "      const quickchartButtonEl =\n",
              "        document.querySelector('#' + key + ' button');\n",
              "      quickchartButtonEl.disabled = true;  // To prevent multiple clicks.\n",
              "      quickchartButtonEl.classList.add('colab-df-spinner');\n",
              "      try {\n",
              "        const charts = await google.colab.kernel.invokeFunction(\n",
              "            'suggestCharts', [key], {});\n",
              "      } catch (error) {\n",
              "        console.error('Error during call to suggestCharts:', error);\n",
              "      }\n",
              "      quickchartButtonEl.classList.remove('colab-df-spinner');\n",
              "      quickchartButtonEl.classList.add('colab-df-quickchart-complete');\n",
              "    }\n",
              "    (() => {\n",
              "      let quickchartButtonEl =\n",
              "        document.querySelector('#df-93ddeb56-ace7-4374-b5f6-eb460687df95 button');\n",
              "      quickchartButtonEl.style.display =\n",
              "        google.colab.kernel.accessAllowed ? 'block' : 'none';\n",
              "    })();\n",
              "  </script>\n",
              "</div>\n",
              "\n",
              "  <div id=\"id_bf09970b-c73c-4fa7-9b47-78672360f4ad\">\n",
              "    <style>\n",
              "      .colab-df-generate {\n",
              "        background-color: #E8F0FE;\n",
              "        border: none;\n",
              "        border-radius: 50%;\n",
              "        cursor: pointer;\n",
              "        display: none;\n",
              "        fill: #1967D2;\n",
              "        height: 32px;\n",
              "        padding: 0 0 0 0;\n",
              "        width: 32px;\n",
              "      }\n",
              "\n",
              "      .colab-df-generate:hover {\n",
              "        background-color: #E2EBFA;\n",
              "        box-shadow: 0px 1px 2px rgba(60, 64, 67, 0.3), 0px 1px 3px 1px rgba(60, 64, 67, 0.15);\n",
              "        fill: #174EA6;\n",
              "      }\n",
              "\n",
              "      [theme=dark] .colab-df-generate {\n",
              "        background-color: #3B4455;\n",
              "        fill: #D2E3FC;\n",
              "      }\n",
              "\n",
              "      [theme=dark] .colab-df-generate:hover {\n",
              "        background-color: #434B5C;\n",
              "        box-shadow: 0px 1px 3px 1px rgba(0, 0, 0, 0.15);\n",
              "        filter: drop-shadow(0px 1px 2px rgba(0, 0, 0, 0.3));\n",
              "        fill: #FFFFFF;\n",
              "      }\n",
              "    </style>\n",
              "    <button class=\"colab-df-generate\" onclick=\"generateWithVariable('var_cvar_comparison')\"\n",
              "            title=\"Generate code using this dataframe.\"\n",
              "            style=\"display:none;\">\n",
              "\n",
              "  <svg xmlns=\"http://www.w3.org/2000/svg\" height=\"24px\"viewBox=\"0 0 24 24\"\n",
              "       width=\"24px\">\n",
              "    <path d=\"M7,19H8.4L18.45,9,17,7.55,7,17.6ZM5,21V16.75L18.45,3.32a2,2,0,0,1,2.83,0l1.4,1.43a1.91,1.91,0,0,1,.58,1.4,1.91,1.91,0,0,1-.58,1.4L9.25,21ZM18.45,9,17,7.55Zm-12,3A5.31,5.31,0,0,0,4.9,8.1,5.31,5.31,0,0,0,1,6.5,5.31,5.31,0,0,0,4.9,4.9,5.31,5.31,0,0,0,6.5,1,5.31,5.31,0,0,0,8.1,4.9,5.31,5.31,0,0,0,12,6.5,5.46,5.46,0,0,0,6.5,12Z\"/>\n",
              "  </svg>\n",
              "    </button>\n",
              "    <script>\n",
              "      (() => {\n",
              "      const buttonEl =\n",
              "        document.querySelector('#id_bf09970b-c73c-4fa7-9b47-78672360f4ad button.colab-df-generate');\n",
              "      buttonEl.style.display =\n",
              "        google.colab.kernel.accessAllowed ? 'block' : 'none';\n",
              "\n",
              "      buttonEl.onclick = () => {\n",
              "        google.colab.notebook.generateWithVariable('var_cvar_comparison');\n",
              "      }\n",
              "      })();\n",
              "    </script>\n",
              "  </div>\n",
              "\n",
              "    </div>\n",
              "  </div>\n"
            ],
            "application/vnd.google.colaboratory.intrinsic+json": {
              "type": "dataframe",
              "variable_name": "var_cvar_comparison",
              "summary": "{\n  \"name\": \"var_cvar_comparison\",\n  \"rows\": 2,\n  \"fields\": [\n    {\n      \"column\": \"Measure\",\n      \"properties\": {\n        \"dtype\": \"string\",\n        \"num_unique_values\": 2,\n        \"samples\": [\n          \"CVaR 97.5%\",\n          \"VaR 99%\"\n        ],\n        \"semantic_type\": \"\",\n        \"description\": \"\"\n      }\n    },\n    {\n      \"column\": \"Loss (%)\",\n      \"properties\": {\n        \"dtype\": \"string\",\n        \"num_unique_values\": 2,\n        \"samples\": [\n          \"3.50%\",\n          \"3.58%\"\n        ],\n        \"semantic_type\": \"\",\n        \"description\": \"\"\n      }\n    },\n    {\n      \"column\": \"Loss (\\u20ac)\",\n      \"properties\": {\n        \"dtype\": \"string\",\n        \"num_unique_values\": 2,\n        \"samples\": [\n          \"\\u20ac350.16\",\n          \"\\u20ac358.04\"\n        ],\n        \"semantic_type\": \"\",\n        \"description\": \"\"\n      }\n    },\n    {\n      \"column\": \"Capital Requirement\",\n      \"properties\": {\n        \"dtype\": \"string\",\n        \"num_unique_values\": 2,\n        \"samples\": [\n          \"\\u20ac3,321.93\",\n          \"\\u20ac3,396.66\"\n        ],\n        \"semantic_type\": \"\",\n        \"description\": \"\"\n      }\n    }\n  ]\n}"
            }
          },
          "metadata": {}
        }
      ]
    },
    {
      "cell_type": "markdown",
      "source": [
        "- The table shows that for a **portfolio of €1,000**, the **VaR 99%** implies a potential loss of **€358.04**, requiring a **capital buffer of €3,396.66** to cover the 99% worst-case scenario. On the other hand, the **CVaR 97.5%** implies a potential loss of **€350.16**, with a **capital requirement of €3,321.93** to cover the average loss in the worst 2.5% of cases.\n",
        "  \n",
        "- The difference in the capital requirements reflects the distinct nature of **VaR** and **CVaR**. The **CVaR 97.5%** is slightly lower here, which could be attributed to the **diversification** of the portfolio that helps mitigate tail risk.\n",
        "\n",
        "- However, it is crucial to note that the capital requirements based on **VaR** or **CVaR** need to be **adjusted frequently** to ensure they remain in line with changing market conditions. **Market volatility**, **portfolio composition**, and other external factors should be continuously monitored and recalibrated to accurately reflect the evolving risk environment.\n"
      ],
      "metadata": {
        "id": "W1d5L5J5fzf7"
      }
    },
    {
      "cell_type": "markdown",
      "source": [
        "<br>"
      ],
      "metadata": {
        "id": "-A697Gj91uQf"
      }
    },
    {
      "cell_type": "markdown",
      "source": [
        "# Conclusion"
      ],
      "metadata": {
        "id": "cq8SuaJd5oOi"
      }
    },
    {
      "cell_type": "markdown",
      "source": [
        "This project estimated the VaR and CVaR of a portfolio composed of MSFT and CNR using several approaches, including parametric, historical, hybrid, and Monte Carlo methods. Backtesting confirmed the reliability of most models, though EWMA showed excessive violations. We also computed a Stressed VaR using crisis-period data, which gave significantly different results from the regular VaR.\n",
        "\n",
        "While we used a static one-year window, risk evolves over time. A rolling window approach would provide a clearer view of how VaR and CVaR change in different market regimes. Finally, advanced models like GARCH or copulas could further improve tail-risk modeling and dependence structure representation.\n"
      ],
      "metadata": {
        "id": "lHncbySY1lgu"
      }
    },
    {
      "cell_type": "markdown",
      "source": [
        "<br>"
      ],
      "metadata": {
        "id": "GFVr33EP1MH4"
      }
    },
    {
      "cell_type": "markdown",
      "source": [
        "# Annexe"
      ],
      "metadata": {
        "id": "Z-8KWYJ5VqyJ"
      }
    },
    {
      "cell_type": "markdown",
      "source": [
        "<p align=\"center\"><b>Table 1: Capital Requirement and Penalty under VaR 99% (Pre-CVaR)</b></p>\n"
      ],
      "metadata": {
        "id": "48kYC90kVtyG"
      }
    },
    {
      "cell_type": "markdown",
      "source": [
        "![Capture d’écran 2025-04-16 à 17.03.49.png](data:image/png;base64,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)"
      ],
      "metadata": {
        "id": "HzOeTfhLIHqD"
      }
    },
    {
      "cell_type": "markdown",
      "source": [
        "# Bibliography"
      ],
      "metadata": {
        "id": "x4nHDkUIss6w"
      }
    },
    {
      "cell_type": "markdown",
      "source": [
        "- Alexander, C. (2008). Market Risk Analysis, Volume I: Quantitative Methods in Finance. Wiley.\n",
        "- Alexander, C. & Sarabia, J. M. (2011). Value-at-Risk Model Risk. Available at SSRN 1758548.\n",
        "-  Glasserman, P. (2004). Monte Carlo methods in financial engineering (Vol. 53, pp. xiv+-596). New York: springer\n",
        "-  Hassani, S. S. & Dionne, G. (2021). Nouvelle réglementation internationale du risque de marché: rôles de la VaR et de la CVaR dans la validation des modèles. Assurances et gestion des risques, 87(3), 169-207.\n",
        "\n",
        "- Petrov, D. (2025). Risk Management [Course notes].\n",
        "\n"
      ],
      "metadata": {
        "id": "_tEXwo4nsudi"
      }
    }
  ]
}